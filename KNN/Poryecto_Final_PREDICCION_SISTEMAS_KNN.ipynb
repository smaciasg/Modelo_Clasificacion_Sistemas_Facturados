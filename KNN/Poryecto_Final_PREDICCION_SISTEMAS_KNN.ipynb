{
 "nbformat": 4,
 "nbformat_minor": 0,
 "metadata": {
  "colab": {
   "provenance": [],
   "collapsed_sections": [
    "p5GhO1V0yGYt"
   ]
  },
  "kernelspec": {
   "name": "python3",
   "display_name": "Python 3"
  },
  "language_info": {
   "name": "python"
  }
 },
 "cells": [
  {
   "cell_type": "markdown",
   "source": [
    "**DATASET 1**"
   ],
   "metadata": {
    "id": "p5GhO1V0yGYt",
    "pycharm": {
     "name": "#%% md\n"
    }
   }
  },
  {
   "cell_type": "markdown",
   "source": [
    "**Fuente:** Facturación de órdenes de trabajo para actividades de mantenimiento de una flota vehícular que cuenta con 16 tipos de activos diferentes, que a su vez están distribuidos en 20 tipos de operaciones diferentes. Los datos corresponden a operaciones reales efectuadas sobre un total de 124 activos aproximadamente.\n",
    "\n",
    "**Objetivo - modelo de clasificación:** Para cada orden de trabajo se espera poder predecir el tipo de sistema que fue intevenido por la actividad de mantenimiento dentro de una lista de 23 posibles categorías. Un sistema es una agrupación funcional de un activo vehícular, por ejemplo el sistema de motor, el sistema de frenos, el sistema de sustensión, etc. \n",
    "\n",
    "**Datos hoja costos_unificados:**\n",
    "\n",
    "1. *Contrato*: Corresponde al contrato suscrito entre la entidad y el prestador del servicio de mantenimiento, en un 13% de los casos un mismo contrato puede atender uno o máximo 2 sistemas, otro 19% de los contratos corresponden a actividades generales, no están asociados a un sistema puntual, el restante de contratos atiende un único sistema.\n",
    "\n",
    "2. *Fecha generación*: Es la fecha cuando se generá la orden de trabajo.\n",
    "\n",
    "3. *Fecha terminación actualizada*: Es la fecha de finalización real de la actividad de mantenimiento por parte del contratista.\n",
    "\n",
    "4. *Fecha entrega*: Es la fecha de entrega de documentación para facturación.\n",
    "\n",
    "5. *Número orden de trabajo*: Orden de trabajo, código para la facturación, que puede ser o no compartida por varios sistemas y varios contratistas.\n",
    "\n",
    "6. *Número Activo ajustado*: Lista de activos operativos en el área de mantenimiento al momento del análisis, un mismo activo puede tener mínimo un código y máximo 3, si está dividido por secciones.\n",
    "\n",
    "7. *Número Activo Original*: Es la lista de activos operativos e históricos con su código validado,  un mismo activo puede tener mínimo un código y máximo 3, si está dividido por secciones. Si no hay activo es por que el gasto corresponde a un gasto genérico para el área de mantenimiento en general.\n",
    "\n",
    "8. *Estado*: Es el estado del proceso de facturación, es este caso los estados estimados, es decir, no se conoce su valor real a factura, ni se tiene plena certeza del total de sistemas a intervenir; por tanto, serán retirados del modelo para realizar una predicción posterior del tipo de sistema probable de acuerdo al estimado de la reparación.\n",
    "\n",
    "9. *Valor factura*: Es el valor total facturado por el contratista para la orden de trabajo, el valor puede estar vacio dado que no fue reportado o por error de digitación o no se facturó la actividad.\n",
    "\n",
    "10. ***Sistema***: Es la columna objetivo del estudio y se trata de identificar a cuál sistema corresponde una orden de trabajo, al día de hoy el sistema de facturación no tiene la opción de asociar este campo y es necesario identificar la inversión en cada sistema de los activos para identificar patrones de falla, gastos y estimar valores de contratos futuros. \n",
    "\n",
    "**Datos de la hoja datos_activos**:\n",
    "Esta hoja contiene especificaciones de algunos de los activos históricos y vigentes.\n",
    "\n",
    "1. *Número de activo*: Coincide con las columnas que refieran a número de activo.\n",
    "\n",
    "2. *Tipo*: Es es tipo de activo, por ejemplo un carrotanque, una volqueta, un vehículo de carga pesada, etc., se tienen un total de 16 tipos de activos diferentes.\n",
    "\n",
    "3. *Tipo de operación*: Es un indicativo del tipo de labor general del activo, por ejemplo, hidrolavado, barrido, recolección de escombros, etc., se tiene un total de 20 operaciones distintas.\n",
    "\n",
    "4. *Marca chasis*: Es la marca del chasis de fabricación de los activos, hay un total de 15 marcas diferentes, para el total de 124 activos, así que varios de ellos las comparten.\n",
    "\n",
    "5. *Modelo chasis*: Es una descripción más detallada de una referencia específica de chasis, hay un total de 25 modelos de chasis diferentes.\n",
    "\n",
    "6. *Año fabricación del chasis*: Es el año de fabricación del componente estructural principal del activo y da cuenta de la edad del activo."
   ],
   "metadata": {
    "id": "FenFHBAJyKo-"
   }
  },
  {
   "cell_type": "markdown",
   "source": [
    "##**Carga del conjunto de datos y su exploración**"
   ],
   "metadata": {
    "id": "IyKNmQTK5Zfc"
   }
  },
  {
   "cell_type": "code",
   "execution_count": 1,
   "metadata": {
    "id": "9FrvYUMAxz_3"
   },
   "outputs": [],
   "source": [
    "import pandas as pd\n",
    "import numpy as np\n",
    "import matplotlib.pyplot as plt"
   ]
  },
  {
   "cell_type": "markdown",
   "source": [
    "**DATA DE LA HOJA costos_unificados**"
   ],
   "metadata": {
    "id": "LmnlwL-y6_G0"
   }
  },
  {
   "cell_type": "code",
   "source": [
    "dataset1 = pd.read_excel(r'D:\\Coding Dojo\\DataScience\\S7-Modelos_clasificacion\\dataset_clasificacion_sistemas_estimacion_valor.xlsx', sheet_name='costos_unificados')\n",
    "dataset1.head()"
   ],
   "metadata": {
    "colab": {
     "base_uri": "https://localhost:8080/",
     "height": 267
    },
    "id": "3Kyko0lm5kcw",
    "outputId": "6f5c2ce2-cee9-4332-b7df-9dcd63fc4ede"
   },
   "execution_count": 2,
   "outputs": [
    {
     "data": {
      "text/plain": "     Contrato Fecha Generación Terminación Actualizada Fecha Entrega  \\\n0  Contrato34       2018-07-28              2018-09-22    2018-10-25   \n1  Contrato34       2018-08-03              2018-08-03    2018-08-08   \n2  Contrato34       2018-08-03              2018-08-03    2018-08-14   \n3  Contrato34       2018-08-04              2018-08-04    2018-08-08   \n4  Contrato34       2018-08-04              2018-08-05    2018-08-14   \n\n  Número orden de trabajo  Número Activo ajustado Número Activo Original  \\\n0             O66103T2018                   270.0                    270   \n1             O66254T2018                   377.0                    377   \n2             O66255T2018                   245.0                    245   \n3             O66281T2018                   236.0                    236   \n4             O66293T2018                   390.0                    390   \n\n      Estado  Valor factura   Sistema  \n0  Facturado   1.793857e+06  Sistema4  \n1  Facturado   1.307067e+05  Sistema4  \n2  Facturado   1.693834e+06  Sistema4  \n3  Facturado   5.627988e+05  Sistema4  \n4  Facturado   3.690611e+05  Sistema4  ",
      "text/html": "<div>\n<style scoped>\n    .dataframe tbody tr th:only-of-type {\n        vertical-align: middle;\n    }\n\n    .dataframe tbody tr th {\n        vertical-align: top;\n    }\n\n    .dataframe thead th {\n        text-align: right;\n    }\n</style>\n<table border=\"1\" class=\"dataframe\">\n  <thead>\n    <tr style=\"text-align: right;\">\n      <th></th>\n      <th>Contrato</th>\n      <th>Fecha Generación</th>\n      <th>Terminación Actualizada</th>\n      <th>Fecha Entrega</th>\n      <th>Número orden de trabajo</th>\n      <th>Número Activo ajustado</th>\n      <th>Número Activo Original</th>\n      <th>Estado</th>\n      <th>Valor factura</th>\n      <th>Sistema</th>\n    </tr>\n  </thead>\n  <tbody>\n    <tr>\n      <th>0</th>\n      <td>Contrato34</td>\n      <td>2018-07-28</td>\n      <td>2018-09-22</td>\n      <td>2018-10-25</td>\n      <td>O66103T2018</td>\n      <td>270.0</td>\n      <td>270</td>\n      <td>Facturado</td>\n      <td>1.793857e+06</td>\n      <td>Sistema4</td>\n    </tr>\n    <tr>\n      <th>1</th>\n      <td>Contrato34</td>\n      <td>2018-08-03</td>\n      <td>2018-08-03</td>\n      <td>2018-08-08</td>\n      <td>O66254T2018</td>\n      <td>377.0</td>\n      <td>377</td>\n      <td>Facturado</td>\n      <td>1.307067e+05</td>\n      <td>Sistema4</td>\n    </tr>\n    <tr>\n      <th>2</th>\n      <td>Contrato34</td>\n      <td>2018-08-03</td>\n      <td>2018-08-03</td>\n      <td>2018-08-14</td>\n      <td>O66255T2018</td>\n      <td>245.0</td>\n      <td>245</td>\n      <td>Facturado</td>\n      <td>1.693834e+06</td>\n      <td>Sistema4</td>\n    </tr>\n    <tr>\n      <th>3</th>\n      <td>Contrato34</td>\n      <td>2018-08-04</td>\n      <td>2018-08-04</td>\n      <td>2018-08-08</td>\n      <td>O66281T2018</td>\n      <td>236.0</td>\n      <td>236</td>\n      <td>Facturado</td>\n      <td>5.627988e+05</td>\n      <td>Sistema4</td>\n    </tr>\n    <tr>\n      <th>4</th>\n      <td>Contrato34</td>\n      <td>2018-08-04</td>\n      <td>2018-08-05</td>\n      <td>2018-08-14</td>\n      <td>O66293T2018</td>\n      <td>390.0</td>\n      <td>390</td>\n      <td>Facturado</td>\n      <td>3.690611e+05</td>\n      <td>Sistema4</td>\n    </tr>\n  </tbody>\n</table>\n</div>"
     },
     "execution_count": 2,
     "metadata": {},
     "output_type": "execute_result"
    }
   ]
  },
  {
   "cell_type": "code",
   "source": [
    "dataset1.info()"
   ],
   "metadata": {
    "colab": {
     "base_uri": "https://localhost:8080/"
    },
    "id": "hGE5kZuu592r",
    "outputId": "2d56f123-6ca0-4a0c-e55d-6030e1ad05a9"
   },
   "execution_count": 3,
   "outputs": [
    {
     "name": "stdout",
     "output_type": "stream",
     "text": [
      "<class 'pandas.core.frame.DataFrame'>\n",
      "RangeIndex: 134746 entries, 0 to 134745\n",
      "Data columns (total 10 columns):\n",
      " #   Column                   Non-Null Count   Dtype         \n",
      "---  ------                   --------------   -----         \n",
      " 0   Contrato                 133907 non-null  object        \n",
      " 1   Fecha Generación         134119 non-null  datetime64[ns]\n",
      " 2   Terminación Actualizada  134745 non-null  datetime64[ns]\n",
      " 3   Fecha Entrega            23920 non-null   datetime64[ns]\n",
      " 4   Número orden de trabajo  134746 non-null  object        \n",
      " 5   Número Activo ajustado   79652 non-null   float64       \n",
      " 6   Número Activo Original   134471 non-null  object        \n",
      " 7   Estado                   134743 non-null  object        \n",
      " 8   Valor factura            134746 non-null  float64       \n",
      " 9   Sistema                  133381 non-null  object        \n",
      "dtypes: datetime64[ns](3), float64(2), object(5)\n",
      "memory usage: 10.3+ MB\n"
     ]
    }
   ]
  },
  {
   "cell_type": "code",
   "source": [
    "#%De datos faltantes por cada columna\n",
    "(dataset1.isna().sum()/len(dataset1))*100"
   ],
   "metadata": {
    "colab": {
     "base_uri": "https://localhost:8080/"
    },
    "id": "omu_l9u46Im5",
    "outputId": "182cde77-e93e-4f53-b4a6-0e2cc4ba259f"
   },
   "execution_count": 4,
   "outputs": [
    {
     "data": {
      "text/plain": "Contrato                    0.622653\nFecha Generación            0.465320\nTerminación Actualizada     0.000742\nFecha Entrega              82.248082\nNúmero orden de trabajo     0.000000\nNúmero Activo ajustado     40.887299\nNúmero Activo Original      0.204088\nEstado                      0.002226\nValor factura               0.000000\nSistema                     1.013017\ndtype: float64"
     },
     "execution_count": 4,
     "metadata": {},
     "output_type": "execute_result"
    }
   ]
  },
  {
   "cell_type": "markdown",
   "source": [
    "**DATA DE LA HOJA datos_activos**"
   ],
   "metadata": {
    "id": "yg3u_jZ67FZT"
   }
  },
  {
   "cell_type": "code",
   "source": [
    "dataset1_activos = pd.read_excel(r'D:\\Coding Dojo\\DataScience\\S7-Modelos_clasificacion\\dataset_clasificacion_sistemas_estimacion_valor.xlsx', sheet_name='datos_activos')\n",
    "dataset1_activos.head()"
   ],
   "metadata": {
    "colab": {
     "base_uri": "https://localhost:8080/",
     "height": 206
    },
    "id": "PAcL2sAc7Ija",
    "outputId": "2f73f830-2e63-4d05-be5e-c21b48712bf8"
   },
   "execution_count": 5,
   "outputs": [
    {
     "data": {
      "text/plain": "   Número de Activo         TIPO TIPO DE OPERACIÓN  MARCA CHASIS  \\\n0               102  TipoActivo7        Operacion8  MarcaChasis8   \n1               107  TipoActivo7        Operacion8  MarcaChasis8   \n2               108  TipoActivo7        Operacion8  MarcaChasis8   \n3               226  TipoActivo3        Operacion3  MarcaChasis3   \n4               228  TipoActivo3        Operacion3  MarcaChasis3   \n\n    MODELO CHASIS AÑO FABRICACIÓN DEL CHASIS  \n0  ModeloChasis25                       2005  \n1  ModeloChasis25                       2005  \n2  ModeloChasis25                       2005  \n3   ModeloChasis5                       2007  \n4   ModeloChasis5                       2007  ",
      "text/html": "<div>\n<style scoped>\n    .dataframe tbody tr th:only-of-type {\n        vertical-align: middle;\n    }\n\n    .dataframe tbody tr th {\n        vertical-align: top;\n    }\n\n    .dataframe thead th {\n        text-align: right;\n    }\n</style>\n<table border=\"1\" class=\"dataframe\">\n  <thead>\n    <tr style=\"text-align: right;\">\n      <th></th>\n      <th>Número de Activo</th>\n      <th>TIPO</th>\n      <th>TIPO DE OPERACIÓN</th>\n      <th>MARCA CHASIS</th>\n      <th>MODELO CHASIS</th>\n      <th>AÑO FABRICACIÓN DEL CHASIS</th>\n    </tr>\n  </thead>\n  <tbody>\n    <tr>\n      <th>0</th>\n      <td>102</td>\n      <td>TipoActivo7</td>\n      <td>Operacion8</td>\n      <td>MarcaChasis8</td>\n      <td>ModeloChasis25</td>\n      <td>2005</td>\n    </tr>\n    <tr>\n      <th>1</th>\n      <td>107</td>\n      <td>TipoActivo7</td>\n      <td>Operacion8</td>\n      <td>MarcaChasis8</td>\n      <td>ModeloChasis25</td>\n      <td>2005</td>\n    </tr>\n    <tr>\n      <th>2</th>\n      <td>108</td>\n      <td>TipoActivo7</td>\n      <td>Operacion8</td>\n      <td>MarcaChasis8</td>\n      <td>ModeloChasis25</td>\n      <td>2005</td>\n    </tr>\n    <tr>\n      <th>3</th>\n      <td>226</td>\n      <td>TipoActivo3</td>\n      <td>Operacion3</td>\n      <td>MarcaChasis3</td>\n      <td>ModeloChasis5</td>\n      <td>2007</td>\n    </tr>\n    <tr>\n      <th>4</th>\n      <td>228</td>\n      <td>TipoActivo3</td>\n      <td>Operacion3</td>\n      <td>MarcaChasis3</td>\n      <td>ModeloChasis5</td>\n      <td>2007</td>\n    </tr>\n  </tbody>\n</table>\n</div>"
     },
     "execution_count": 5,
     "metadata": {},
     "output_type": "execute_result"
    }
   ]
  },
  {
   "cell_type": "code",
   "source": [
    "dataset1_activos.info()"
   ],
   "metadata": {
    "colab": {
     "base_uri": "https://localhost:8080/"
    },
    "id": "iOdnobbT7Snw",
    "outputId": "daa39206-dee6-46c4-bbdc-970fa4b9cfff"
   },
   "execution_count": 6,
   "outputs": [
    {
     "name": "stdout",
     "output_type": "stream",
     "text": [
      "<class 'pandas.core.frame.DataFrame'>\n",
      "RangeIndex: 227 entries, 0 to 226\n",
      "Data columns (total 6 columns):\n",
      " #   Column                      Non-Null Count  Dtype \n",
      "---  ------                      --------------  ----- \n",
      " 0   Número de Activo            227 non-null    int64 \n",
      " 1   TIPO                        227 non-null    object\n",
      " 2   TIPO DE OPERACIÓN           227 non-null    object\n",
      " 3   MARCA CHASIS                227 non-null    object\n",
      " 4   MODELO CHASIS               227 non-null    object\n",
      " 5   AÑO FABRICACIÓN DEL CHASIS  227 non-null    object\n",
      "dtypes: int64(1), object(5)\n",
      "memory usage: 10.8+ KB\n"
     ]
    }
   ]
  },
  {
   "cell_type": "markdown",
   "source": [
    "##**RETOS**"
   ],
   "metadata": {
    "id": "qlT8onMu7cCn"
   }
  },
  {
   "cell_type": "markdown",
   "source": [
    "1. La determinación de las columnas útiles para la predicción.\n",
    "\n",
    "2. La transformación de los datos.\n",
    "\n",
    "3. La combinación de las tablas de costos y la de características de los activos.\n",
    "\n",
    "4. El tratamiento de los datos faltantes, que hay varios de ellos en algunas columnas.\n",
    "\n",
    "5. Elección del mejor modelo y optimización del mismo.\n",
    "\n",
    "6. Es un problema de clasificación multiclase."
   ],
   "metadata": {
    "id": "g5RAo9Dh7gKm"
   }
  },
  {
   "cell_type": "markdown",
   "source": [
    "**Unión de dataframe**"
   ],
   "metadata": {
    "id": "CZWCmFyGnjXs"
   }
  },
  {
   "cell_type": "code",
   "source": [
    "df_sistemas_mtto = dataset1.merge(dataset1_activos,how='left',left_on='Número Activo Original', right_on='Número de Activo')\n",
    "df_sistemas_mtto"
   ],
   "metadata": {
    "id": "H80sR8Avnlqh",
    "colab": {
     "base_uri": "https://localhost:8080/",
     "height": 609
    },
    "outputId": "d9f3ec68-3145-49a0-9dde-7063497d2108"
   },
   "execution_count": 7,
   "outputs": [
    {
     "data": {
      "text/plain": "          Contrato Fecha Generación Terminación Actualizada Fecha Entrega  \\\n0       Contrato34       2018-07-28              2018-09-22    2018-10-25   \n1       Contrato34       2018-08-03              2018-08-03    2018-08-08   \n2       Contrato34       2018-08-03              2018-08-03    2018-08-14   \n3       Contrato34       2018-08-04              2018-08-04    2018-08-08   \n4       Contrato34       2018-08-04              2018-08-05    2018-08-14   \n...            ...              ...                     ...           ...   \n134882  Contrato43       2020-01-09              2019-12-31           NaT   \n134883  Contrato43       2020-01-09              2019-12-31           NaT   \n134884  Contrato43       2020-01-09              2019-12-31           NaT   \n134885  Contrato43       2020-01-09              2019-12-31           NaT   \n134886  Contrato43       2020-01-09              2019-12-31           NaT   \n\n       Número orden de trabajo  Número Activo ajustado Número Activo Original  \\\n0                  O66103T2018                   270.0                    270   \n1                  O66254T2018                   377.0                    377   \n2                  O66255T2018                   245.0                    245   \n3                  O66281T2018                   236.0                    236   \n4                  O66293T2018                   390.0                    390   \n...                        ...                     ...                    ...   \n134882             O80201T2020                     NaN                   5095   \n134883             O80201T2020                     NaN                   5096   \n134884             O80201T2020                     NaN                   5097   \n134885             O80201T2020                     NaN                   4553   \n134886             O80201T2020                   610.0                   4896   \n\n           Estado  Valor factura    Sistema  Número de Activo          TIPO  \\\n0       Facturado   1.793857e+06   Sistema4             270.0   TipoActivo5   \n1       Facturado   1.307067e+05   Sistema4             377.0   TipoActivo3   \n2       Facturado   1.693834e+06   Sistema4             245.0   TipoActivo3   \n3       Facturado   5.627988e+05   Sistema4             236.0   TipoActivo3   \n4       Facturado   3.690611e+05   Sistema4             390.0   TipoActivo3   \n...           ...            ...        ...               ...           ...   \n134882  Facturado   4.040089e+04  Sistema21               NaN           NaN   \n134883  Facturado   2.020044e+04  Sistema21               NaN           NaN   \n134884  Facturado   2.020044e+04  Sistema21               NaN           NaN   \n134885  Facturado   2.020044e+04  Sistema21               NaN           NaN   \n134886  Facturado   1.068133e+04  Sistema21            4896.0  TipoActivo13   \n\n       TIPO DE OPERACIÓN  MARCA CHASIS   MODELO CHASIS  \\\n0             Operacion6  MarcaChasis3   ModeloChasis7   \n1             Operacion4  MarcaChasis3   ModeloChasis5   \n2             Operacion4  MarcaChasis3   ModeloChasis5   \n3             Operacion3  MarcaChasis3   ModeloChasis5   \n4             Operacion4  MarcaChasis3   ModeloChasis5   \n...                  ...           ...             ...   \n134882               NaN           NaN             NaN   \n134883               NaN           NaN             NaN   \n134884               NaN           NaN             NaN   \n134885               NaN           NaN             NaN   \n134886       Operacion17  MarcaChasis2  ModeloChasis20   \n\n       AÑO FABRICACIÓN DEL CHASIS  \n0                            2005  \n1                            2009  \n2                            2007  \n3                            2007  \n4                            2009  \n...                           ...  \n134882                        NaN  \n134883                        NaN  \n134884                        NaN  \n134885                        NaN  \n134886                       2019  \n\n[134887 rows x 16 columns]",
      "text/html": "<div>\n<style scoped>\n    .dataframe tbody tr th:only-of-type {\n        vertical-align: middle;\n    }\n\n    .dataframe tbody tr th {\n        vertical-align: top;\n    }\n\n    .dataframe thead th {\n        text-align: right;\n    }\n</style>\n<table border=\"1\" class=\"dataframe\">\n  <thead>\n    <tr style=\"text-align: right;\">\n      <th></th>\n      <th>Contrato</th>\n      <th>Fecha Generación</th>\n      <th>Terminación Actualizada</th>\n      <th>Fecha Entrega</th>\n      <th>Número orden de trabajo</th>\n      <th>Número Activo ajustado</th>\n      <th>Número Activo Original</th>\n      <th>Estado</th>\n      <th>Valor factura</th>\n      <th>Sistema</th>\n      <th>Número de Activo</th>\n      <th>TIPO</th>\n      <th>TIPO DE OPERACIÓN</th>\n      <th>MARCA CHASIS</th>\n      <th>MODELO CHASIS</th>\n      <th>AÑO FABRICACIÓN DEL CHASIS</th>\n    </tr>\n  </thead>\n  <tbody>\n    <tr>\n      <th>0</th>\n      <td>Contrato34</td>\n      <td>2018-07-28</td>\n      <td>2018-09-22</td>\n      <td>2018-10-25</td>\n      <td>O66103T2018</td>\n      <td>270.0</td>\n      <td>270</td>\n      <td>Facturado</td>\n      <td>1.793857e+06</td>\n      <td>Sistema4</td>\n      <td>270.0</td>\n      <td>TipoActivo5</td>\n      <td>Operacion6</td>\n      <td>MarcaChasis3</td>\n      <td>ModeloChasis7</td>\n      <td>2005</td>\n    </tr>\n    <tr>\n      <th>1</th>\n      <td>Contrato34</td>\n      <td>2018-08-03</td>\n      <td>2018-08-03</td>\n      <td>2018-08-08</td>\n      <td>O66254T2018</td>\n      <td>377.0</td>\n      <td>377</td>\n      <td>Facturado</td>\n      <td>1.307067e+05</td>\n      <td>Sistema4</td>\n      <td>377.0</td>\n      <td>TipoActivo3</td>\n      <td>Operacion4</td>\n      <td>MarcaChasis3</td>\n      <td>ModeloChasis5</td>\n      <td>2009</td>\n    </tr>\n    <tr>\n      <th>2</th>\n      <td>Contrato34</td>\n      <td>2018-08-03</td>\n      <td>2018-08-03</td>\n      <td>2018-08-14</td>\n      <td>O66255T2018</td>\n      <td>245.0</td>\n      <td>245</td>\n      <td>Facturado</td>\n      <td>1.693834e+06</td>\n      <td>Sistema4</td>\n      <td>245.0</td>\n      <td>TipoActivo3</td>\n      <td>Operacion4</td>\n      <td>MarcaChasis3</td>\n      <td>ModeloChasis5</td>\n      <td>2007</td>\n    </tr>\n    <tr>\n      <th>3</th>\n      <td>Contrato34</td>\n      <td>2018-08-04</td>\n      <td>2018-08-04</td>\n      <td>2018-08-08</td>\n      <td>O66281T2018</td>\n      <td>236.0</td>\n      <td>236</td>\n      <td>Facturado</td>\n      <td>5.627988e+05</td>\n      <td>Sistema4</td>\n      <td>236.0</td>\n      <td>TipoActivo3</td>\n      <td>Operacion3</td>\n      <td>MarcaChasis3</td>\n      <td>ModeloChasis5</td>\n      <td>2007</td>\n    </tr>\n    <tr>\n      <th>4</th>\n      <td>Contrato34</td>\n      <td>2018-08-04</td>\n      <td>2018-08-05</td>\n      <td>2018-08-14</td>\n      <td>O66293T2018</td>\n      <td>390.0</td>\n      <td>390</td>\n      <td>Facturado</td>\n      <td>3.690611e+05</td>\n      <td>Sistema4</td>\n      <td>390.0</td>\n      <td>TipoActivo3</td>\n      <td>Operacion4</td>\n      <td>MarcaChasis3</td>\n      <td>ModeloChasis5</td>\n      <td>2009</td>\n    </tr>\n    <tr>\n      <th>...</th>\n      <td>...</td>\n      <td>...</td>\n      <td>...</td>\n      <td>...</td>\n      <td>...</td>\n      <td>...</td>\n      <td>...</td>\n      <td>...</td>\n      <td>...</td>\n      <td>...</td>\n      <td>...</td>\n      <td>...</td>\n      <td>...</td>\n      <td>...</td>\n      <td>...</td>\n      <td>...</td>\n    </tr>\n    <tr>\n      <th>134882</th>\n      <td>Contrato43</td>\n      <td>2020-01-09</td>\n      <td>2019-12-31</td>\n      <td>NaT</td>\n      <td>O80201T2020</td>\n      <td>NaN</td>\n      <td>5095</td>\n      <td>Facturado</td>\n      <td>4.040089e+04</td>\n      <td>Sistema21</td>\n      <td>NaN</td>\n      <td>NaN</td>\n      <td>NaN</td>\n      <td>NaN</td>\n      <td>NaN</td>\n      <td>NaN</td>\n    </tr>\n    <tr>\n      <th>134883</th>\n      <td>Contrato43</td>\n      <td>2020-01-09</td>\n      <td>2019-12-31</td>\n      <td>NaT</td>\n      <td>O80201T2020</td>\n      <td>NaN</td>\n      <td>5096</td>\n      <td>Facturado</td>\n      <td>2.020044e+04</td>\n      <td>Sistema21</td>\n      <td>NaN</td>\n      <td>NaN</td>\n      <td>NaN</td>\n      <td>NaN</td>\n      <td>NaN</td>\n      <td>NaN</td>\n    </tr>\n    <tr>\n      <th>134884</th>\n      <td>Contrato43</td>\n      <td>2020-01-09</td>\n      <td>2019-12-31</td>\n      <td>NaT</td>\n      <td>O80201T2020</td>\n      <td>NaN</td>\n      <td>5097</td>\n      <td>Facturado</td>\n      <td>2.020044e+04</td>\n      <td>Sistema21</td>\n      <td>NaN</td>\n      <td>NaN</td>\n      <td>NaN</td>\n      <td>NaN</td>\n      <td>NaN</td>\n      <td>NaN</td>\n    </tr>\n    <tr>\n      <th>134885</th>\n      <td>Contrato43</td>\n      <td>2020-01-09</td>\n      <td>2019-12-31</td>\n      <td>NaT</td>\n      <td>O80201T2020</td>\n      <td>NaN</td>\n      <td>4553</td>\n      <td>Facturado</td>\n      <td>2.020044e+04</td>\n      <td>Sistema21</td>\n      <td>NaN</td>\n      <td>NaN</td>\n      <td>NaN</td>\n      <td>NaN</td>\n      <td>NaN</td>\n      <td>NaN</td>\n    </tr>\n    <tr>\n      <th>134886</th>\n      <td>Contrato43</td>\n      <td>2020-01-09</td>\n      <td>2019-12-31</td>\n      <td>NaT</td>\n      <td>O80201T2020</td>\n      <td>610.0</td>\n      <td>4896</td>\n      <td>Facturado</td>\n      <td>1.068133e+04</td>\n      <td>Sistema21</td>\n      <td>4896.0</td>\n      <td>TipoActivo13</td>\n      <td>Operacion17</td>\n      <td>MarcaChasis2</td>\n      <td>ModeloChasis20</td>\n      <td>2019</td>\n    </tr>\n  </tbody>\n</table>\n<p>134887 rows × 16 columns</p>\n</div>"
     },
     "execution_count": 7,
     "metadata": {},
     "output_type": "execute_result"
    }
   ]
  },
  {
   "cell_type": "code",
   "execution_count": 8,
   "outputs": [
    {
     "data": {
      "text/plain": "Index(['Número de Activo', 'TIPO', 'TIPO DE OPERACIÓN', 'MARCA CHASIS',\n       'MODELO CHASIS', 'AÑO FABRICACIÓN DEL CHASIS'],\n      dtype='object')"
     },
     "execution_count": 8,
     "metadata": {},
     "output_type": "execute_result"
    }
   ],
   "source": [
    "columnas_activos = dataset1_activos.columns\n",
    "columnas_activos"
   ],
   "metadata": {
    "collapsed": false,
    "pycharm": {
     "name": "#%%\n"
    }
   }
  },
  {
   "cell_type": "code",
   "source": [
    "def asignacion_datos_lavado(columnas):\n",
    "  for columna in columnas:\n",
    "      lista = []\n",
    "      df_sistemas_mtto['valnul']=df_sistemas_mtto[columna].isna()\n",
    "      for i in range(len(df_sistemas_mtto)):\n",
    "        if (df_sistemas_mtto['valnul'][i]==True) & ((df_sistemas_mtto['Sistema'][i]=='Sistema21') | (df_sistemas_mtto['Sistema'][i]=='Sistema14') | (df_sistemas_mtto['Sistema'][i]=='Sistema10')) & (columna == 'Número de Activo'):\n",
    "          lista.append('AG') #AG: Actividad General\n",
    "        elif (df_sistemas_mtto['valnul'][i]==True) & ((df_sistemas_mtto['Sistema'][i]=='Sistema21') | (df_sistemas_mtto['Sistema'][i]=='Sistema14') | (df_sistemas_mtto['Sistema'][i]=='Sistema10')) & (columna != 'Número de Activo'):\n",
    "          lista.append('No aplica')\n",
    "        else:\n",
    "          lista.append(df_sistemas_mtto[columna][i])\n",
    "\n",
    "      df_sistemas_mtto[f'{columna}'] = lista\n",
    "      print(f'------------------------\\n{columna}')\n",
    "      print(df_sistemas_mtto[f'{columna}'].unique())\n",
    "\n",
    "asignacion_datos_lavado(columnas_activos)"
   ],
   "metadata": {
    "id": "mpPFREDTA_eF",
    "colab": {
     "base_uri": "https://localhost:8080/"
    },
    "outputId": "17b3fa12-bb21-4d93-bb49-bc375e37abe2"
   },
   "execution_count": 9,
   "outputs": [
    {
     "name": "stdout",
     "output_type": "stream",
     "text": [
      "------------------------\n",
      "Número de Activo\n",
      "[270.0 377.0 245.0 236.0 390.0 271.0 383.0 233.0 405.0 393.0 371.0 402.0\n",
      " 379.0 375.0 389.0 401.0 60.0 404.0 415.0 373.0 313.0 374.0 394.0 381.0\n",
      " 380.0 334.0 409.0 403.0 400.0 392.0 382.0 311.0 376.0 408.0 226.0 407.0\n",
      " 332.0 63.0 326.0 417.0 246.0 272.0 385.0 314.0 56.0 372.0 232.0 416.0\n",
      " 324.0 419.0 384.0 53.0 387.0 59.0 57.0 378.0 316.0 386.0 418.0 62.0 406.0\n",
      " 64.0 410.0 388.0 412.0 411.0 330.0 242.0 391.0 317.0 244.0 61.0 251.0\n",
      " 108.0 414.0 nan 328.0 4900.0 102.0 4901.0 228.0 2.0 4602.0 4601.0 5103.0\n",
      " nan nan 312.0 nan nan nan nan 274.0 nan nan 277.0 276.0 nan 4472.0 nan\n",
      " 278.0 4491.0 nan nan 300.0 nan nan 4.0 413.0 nan nan nan nan nan nan nan\n",
      " 107.0 nan nan nan nan nan nan nan nan nan nan nan 285.0 nan 282.0 nan\n",
      " 600.0 nan nan nan nan 284.0 547.0 nan nan nan nan nan nan nan nan nan\n",
      " 4825.0 nan nan nan 283.0 279.0 nan nan nan nan nan nan nan 73.0 241.0 nan\n",
      " nan nan nan nan nan nan nan nan nan nan nan nan nan nan nan nan nan nan\n",
      " nan nan nan nan nan nan nan nan 4687.0 nan nan 266.0 nan nan nan nan 5.0\n",
      " nan nan nan nan nan nan nan nan nan nan nan nan nan nan nan nan nan nan\n",
      " nan nan nan nan nan nan nan nan nan nan nan nan nan nan nan nan nan nan\n",
      " nan nan nan nan nan nan nan nan nan nan nan nan nan nan nan nan nan nan\n",
      " nan nan nan nan nan nan nan nan 610.0 4899.0 4896.0 620.0 nan 4546.0\n",
      " 4525.0 4824.0 nan nan nan nan nan nan nan nan nan nan nan nan nan nan nan\n",
      " nan nan nan nan nan 280.0 nan nan nan nan nan nan nan nan nan nan nan nan\n",
      " nan nan nan nan nan nan nan nan nan nan nan nan nan nan nan nan nan nan\n",
      " nan nan nan nan nan nan nan nan nan nan nan nan nan nan nan nan nan nan\n",
      " nan nan nan nan nan nan nan nan nan nan nan nan nan nan nan nan nan nan\n",
      " nan nan nan nan nan nan nan nan nan nan nan nan nan nan nan nan nan nan\n",
      " nan nan nan nan nan nan nan nan nan nan nan nan nan nan nan nan nan nan\n",
      " nan nan nan nan nan nan nan nan nan nan nan nan nan nan nan nan nan nan\n",
      " nan nan nan nan nan nan nan nan nan nan nan nan nan nan nan nan nan nan\n",
      " nan nan nan nan nan nan nan nan nan nan nan nan nan nan nan nan nan nan\n",
      " nan nan nan nan nan nan nan nan nan nan nan nan nan nan nan nan nan nan\n",
      " nan nan nan 601.0 nan nan nan nan nan nan nan nan nan nan nan nan nan nan\n",
      " nan nan nan nan nan nan 'AG' 281.0 71.0 5877.0 72.0 368.0 nan nan nan nan\n",
      " nan nan nan nan nan nan nan nan nan nan nan nan nan nan nan nan nan nan\n",
      " nan nan nan nan nan nan nan nan nan nan nan nan nan nan nan nan nan nan\n",
      " nan nan nan nan nan nan nan nan 611.0 4898.0 5197.0 5890.0 nan nan nan\n",
      " nan nan nan nan nan nan nan nan nan nan nan nan nan nan nan nan nan nan\n",
      " nan nan nan nan nan nan nan nan nan nan nan nan nan nan nan 286.0 nan nan\n",
      " 7358.0 nan nan nan nan nan nan 434.0 433.0 nan nan nan nan nan nan nan\n",
      " nan nan nan nan nan nan nan nan nan nan nan nan nan nan nan nan nan nan\n",
      " nan nan nan nan nan nan nan nan nan nan nan nan nan nan nan nan nan nan\n",
      " nan nan nan nan nan nan nan nan nan nan nan nan nan nan nan nan nan nan\n",
      " nan nan nan nan nan nan nan nan nan nan nan nan nan nan nan nan nan nan\n",
      " nan nan nan 321.0 556.0 527.0 520.0 594.0 552.0 529.0 528.0 509.0 516.0\n",
      " 511.0 525.0 524.0 523.0 533.0 531.0 530.0 518.0 517.0 515.0 522.0 521.0\n",
      " 519.0 534.0 543.0 542.0 541.0 546.0 545.0 544.0 537.0 536.0 535.0 540.0\n",
      " 539.0 538.0 508.0 507.0 506.0 514.0 512.0 510.0 502.0 501.0 505.0 504.0\n",
      " 503.0 585.0 584.0 583.0 586.0 589.0 588.0 587.0 578.0 577.0 575.0 579.0\n",
      " 582.0 581.0 580.0 592.0 591.0 590.0 593.0 595.0 561.0 560.0 559.0 565.0\n",
      " 564.0 563.0 554.0 558.0 557.0 555.0 574.0 569.0 571.0 573.0 572.0 568.0\n",
      " 570.0 566.0 567.0 513.0 526.0 562.0 549.0 551.0 553.0]\n",
      "------------------------\n",
      "TIPO\n",
      "['TipoActivo5' 'TipoActivo3' 'TipoActivo2' 'TipoActivo11' 'TipoActivo9'\n",
      " 'TipoActivo10' 'TipoActivo4' 'TipoActivo7' nan 'TipoActivo14'\n",
      " 'TipoActivo1' 'TipoActivo6' 'TipoActivo8' 'TipoActivo12' 'TipoActivo17'\n",
      " 'TipoActivo15' 'TipoActivo13' 'TipoActivo16' 'No aplica']\n",
      "------------------------\n",
      "TIPO DE OPERACIÓN\n",
      "['Operacion6' 'Operacion4' 'Operacion3' 'Operacion15' 'Operacion14'\n",
      " 'Operacion2' 'Operacion11' 'Operacion13' 'Operacion10' 'Operacion12'\n",
      " 'Operacion5' 'Operacion8' nan 'Operacion18' 'Operacion1' 'Operacion7'\n",
      " 'Operacion9' 'Operacion16' 'Operacion19' 'Operacion17' 'Operacion20'\n",
      " 'No aplica']\n",
      "------------------------\n",
      "MARCA CHASIS\n",
      "['MarcaChasis3' 'MarcaChasis2' 'MarcaChasis10' 'MarcaChasis4'\n",
      " 'MarcaChasis8' nan 'MarcaChasis12' 'MarcaChasis1' 'MarcaChasis5'\n",
      " 'MarcaChasis6' 'MarcaChasis9' 'MarcaChasis11' 'MarcaChasis16'\n",
      " 'MarcaChasis13' 'MarcaChasis14' 'MarcaChasis15' 'MarcaChasis7'\n",
      " 'No aplica']\n",
      "------------------------\n",
      "MODELO CHASIS\n",
      "['ModeloChasis7' 'ModeloChasis5' 'ModeloChasis17' 'ModeloChasis4'\n",
      " 'ModeloChasis16' 'ModeloChasis15' 'ModeloChasis18' 'ModeloChasis3'\n",
      " 'ModeloChasis6' 'ModeloChasis25' nan 'ModeloChasis21' 'ModeloChasis1'\n",
      " 'ModeloChasis11' 'ModeloChasis8' 'ModeloChasis9' 'ModeloChasis14'\n",
      " 'ModeloChasis2' 'ModeloChasis13' 'ModeloChasis19' 'ModeloChasis12'\n",
      " 'ModeloChasis26' 'ModeloChasis22' 'ModeloChasis20' 'ModeloChasis23'\n",
      " 'ModeloChasis24' 'ModeloChasis10' 'No aplica']\n",
      "------------------------\n",
      "AÑO FABRICACIÓN DEL CHASIS\n",
      "[2005 2009 2007 2012 2003 2008 1998 1996 nan '-' 2011 2016 2020 2015 2018\n",
      " 2017 2014 2019 'CG14L' 'No aplica']\n"
     ]
    }
   ]
  },
  {
   "cell_type": "markdown",
   "source": [
    "**Primer borrado de columnas inecesarias**"
   ],
   "metadata": {
    "id": "CKE_E37DWqSF"
   }
  },
  {
   "cell_type": "code",
   "source": [
    "df_sistemas_mtto = df_sistemas_mtto.drop(columns=['Fecha Entrega','Número Activo ajustado','valnul'])"
   ],
   "metadata": {
    "id": "SDM1R9TvWywJ"
   },
   "execution_count": 10,
   "outputs": []
  },
  {
   "cell_type": "code",
   "source": [
    "df_sistemas_mtto.info()"
   ],
   "metadata": {
    "colab": {
     "base_uri": "https://localhost:8080/"
    },
    "id": "-vmLA-3NXLI5",
    "outputId": "41e32520-2452-4f1c-c0f2-896c3196ea90"
   },
   "execution_count": 11,
   "outputs": [
    {
     "name": "stdout",
     "output_type": "stream",
     "text": [
      "<class 'pandas.core.frame.DataFrame'>\n",
      "Int64Index: 134887 entries, 0 to 134886\n",
      "Data columns (total 14 columns):\n",
      " #   Column                      Non-Null Count   Dtype         \n",
      "---  ------                      --------------   -----         \n",
      " 0   Contrato                    134048 non-null  object        \n",
      " 1   Fecha Generación            134251 non-null  datetime64[ns]\n",
      " 2   Terminación Actualizada     134886 non-null  datetime64[ns]\n",
      " 3   Número orden de trabajo     134887 non-null  object        \n",
      " 4   Número Activo Original      134612 non-null  object        \n",
      " 5   Estado                      134884 non-null  object        \n",
      " 6   Valor factura               134887 non-null  float64       \n",
      " 7   Sistema                     133521 non-null  object        \n",
      " 8   Número de Activo            134342 non-null  object        \n",
      " 9   TIPO                        134342 non-null  object        \n",
      " 10  TIPO DE OPERACIÓN           134342 non-null  object        \n",
      " 11  MARCA CHASIS                134342 non-null  object        \n",
      " 12  MODELO CHASIS               134342 non-null  object        \n",
      " 13  AÑO FABRICACIÓN DEL CHASIS  134342 non-null  object        \n",
      "dtypes: datetime64[ns](2), float64(1), object(11)\n",
      "memory usage: 19.5+ MB\n"
     ]
    }
   ]
  },
  {
   "cell_type": "code",
   "source": [
    "#Dado que cada columna tiene una baja cantidad de valores nulos, se procede a la eliminación de los mismos\n",
    "df_sistemas_mtto.dropna(inplace=True)"
   ],
   "metadata": {
    "id": "isFozwnNYrl4"
   },
   "execution_count": 12,
   "outputs": []
  },
  {
   "cell_type": "code",
   "source": [
    "df_sistemas_mtto.reset_index(drop=True, inplace=True)"
   ],
   "metadata": {
    "id": "a64z_ihNaVyR"
   },
   "execution_count": 13,
   "outputs": []
  },
  {
   "cell_type": "code",
   "source": [
    "#Ahora vamos a crear una variable numérica para los días\n",
    "from datetime import datetime\n",
    "import time\n",
    "lista_date_numerico = []\n",
    "for data in range(len(df_sistemas_mtto)):\n",
    "  dt1 = df_sistemas_mtto['Fecha Generación'][data]\n",
    "  timestamp1 = time. mktime(dt1. timetuple()) + dt1.microsecond/1e6\n",
    "  dt2 = df_sistemas_mtto['Terminación Actualizada'][data]\n",
    "  timestamp2 = time. mktime(dt2. timetuple()) + dt2.microsecond/1e6\n",
    "  if (df_sistemas_mtto['Sistema'][data] == 'Sistema21') | (df_sistemas_mtto['Sistema'][data] == 'Sistema14'):\n",
    "      lista_date_numerico.append(0)\n",
    "  else:\n",
    "    lista_date_numerico.append((max(timestamp1,timestamp2)-min(timestamp1,timestamp2)+86400)/86400) #Dado que no poseemos las horas la mejor aproximación es indicar que si se hace\n",
    "  #la reparación el mismo día el tiempo de reparación serán 24horas, equivalentes de 86400 segundos \n",
    "\n",
    "df_sistemas_mtto['tiempo_reparacion_dias'] = lista_date_numerico"
   ],
   "metadata": {
    "id": "bnGz-OK4X_4A"
   },
   "execution_count": 14,
   "outputs": []
  },
  {
   "cell_type": "markdown",
   "source": [
    "**Borrado de filas duplicadas**"
   ],
   "metadata": {
    "id": "8kDoUADtorAg"
   }
  },
  {
   "cell_type": "code",
   "source": [
    "df_sistemas_mtto.duplicated().sum()"
   ],
   "metadata": {
    "colab": {
     "base_uri": "https://localhost:8080/"
    },
    "id": "Q-E2EuWzouKN",
    "outputId": "29f52f15-2abd-47f0-ad8d-996e1b285e03"
   },
   "execution_count": 15,
   "outputs": [
    {
     "data": {
      "text/plain": "816"
     },
     "execution_count": 15,
     "metadata": {},
     "output_type": "execute_result"
    }
   ]
  },
  {
   "cell_type": "code",
   "source": [
    "df_sistemas_mtto=df_sistemas_mtto.drop_duplicates()"
   ],
   "metadata": {
    "id": "mboZxn-xpLms"
   },
   "execution_count": 16,
   "outputs": []
  },
  {
   "cell_type": "markdown",
   "source": [
    "**Segundo borrado de columnas**\n",
    "\n",
    "Se eliminarán las columnas fecha de generación y terminación y la columna número de activo, dado que ya existe la columna: Número Activo Original"
   ],
   "metadata": {
    "id": "4biSNUdiiYUJ"
   }
  },
  {
   "cell_type": "code",
   "source": [
    "df_sistemas_mtto = df_sistemas_mtto.drop(columns=['Fecha Generación','Terminación Actualizada','Número orden de trabajo'])"
   ],
   "metadata": {
    "id": "SaIg5a9jitRq"
   },
   "execution_count": 17,
   "outputs": []
  },
  {
   "cell_type": "markdown",
   "source": [
    "**Corección de valores errados en el año**\n",
    "\n",
    "AÑO FABRICACIÓN DEL CHASIS\n",
    "[2005 2009 2007 2012 2003 2008 1998 1996 nan '-' 2011 2016 2020 2015 2018\n",
    " 2017 2014 2019 'CG14L' 'Actividad General1']"
   ],
   "metadata": {
    "id": "T7sQY0fKqRAm"
   }
  },
  {
   "cell_type": "code",
   "source": [
    "df_sistemas_mtto[df_sistemas_mtto['AÑO FABRICACIÓN DEL CHASIS']!='No aplica']['AÑO FABRICACIÓN DEL CHASIS'].mode()\n",
    "#En el caso del año CG14L, los valores serán imputados por 2020 dado que la misma marca de chasis y modelo de chasis tiene este año de modelo asignado\n",
    "#En el caso del año -, los valores serán imputados por 2009 dado que es el año más frecuente cuando no es el campo 'No aplica'"
   ],
   "metadata": {
    "colab": {
     "base_uri": "https://localhost:8080/"
    },
    "id": "LNWAR92yvJh_",
    "outputId": "5288ed58-426b-40bc-8965-dcfb639ace70"
   },
   "execution_count": 18,
   "outputs": [
    {
     "data": {
      "text/plain": "0    2009\nName: AÑO FABRICACIÓN DEL CHASIS, dtype: object"
     },
     "execution_count": 18,
     "metadata": {},
     "output_type": "execute_result"
    }
   ]
  },
  {
   "cell_type": "markdown",
   "source": [
    "**Reemplazo de valores atípicos en la columna AÑO FABRICACIÓN DEL CHASIS**"
   ],
   "metadata": {
    "id": "3tU4WY_rwChm"
   }
  },
  {
   "cell_type": "code",
   "source": [
    "df_sistemas_mtto['AÑO FABRICACIÓN DEL CHASIS'] = df_sistemas_mtto['AÑO FABRICACIÓN DEL CHASIS'].replace({'-':'2009','CG14L':'2020'})"
   ],
   "metadata": {
    "id": "JsLkjaE9wL2S"
   },
   "execution_count": 19,
   "outputs": []
  },
  {
   "cell_type": "code",
   "source": [
    "df_sistemas_mtto['AÑO FABRICACIÓN DEL CHASIS']=df_sistemas_mtto['AÑO FABRICACIÓN DEL CHASIS'].astype('object')"
   ],
   "metadata": {
    "id": "ZyG9X7iQwcAJ"
   },
   "execution_count": 20,
   "outputs": []
  },
  {
   "cell_type": "markdown",
   "source": [
    "**Diagramas de barras para cada uno de las características y la columna objetivo**"
   ],
   "metadata": {
    "id": "WNvcjfDGxCsU"
   }
  },
  {
   "cell_type": "code",
   "source": [
    "df_sistemas_mtto['Número de Activo'] = df_sistemas_mtto['Número de Activo'].astype('object')"
   ],
   "metadata": {
    "id": "_SJOW5uyxKFR"
   },
   "execution_count": 21,
   "outputs": []
  },
  {
   "cell_type": "code",
   "execution_count": 22,
   "outputs": [
    {
     "data": {
      "text/plain": "          Contrato  Número Activo Original     Estado  Valor factura  \\\ncount       131795                131795.0     131795   1.317950e+05   \nunique          50                   438.0         18            NaN   \ntop     Contrato24                   386.0  Facturado            NaN   \nfreq         42556                  1353.0     128524            NaN   \nmean           NaN                     NaN        NaN   2.411168e+05   \nstd            NaN                     NaN        NaN   1.414556e+06   \nmin            NaN                     NaN        NaN   0.000000e+00   \n25%            NaN                     NaN        NaN   1.738121e+04   \n50%            NaN                     NaN        NaN   3.035918e+04   \n75%            NaN                     NaN        NaN   6.060133e+04   \nmax            NaN                     NaN        NaN   7.660989e+07   \n\n          Sistema Número de Activo         TIPO TIPO DE OPERACIÓN  \\\ncount      131795           131795       131795            131795   \nunique         19              222           18                21   \ntop     Sistema21               AG  TipoActivo3        Operacion4   \nfreq        80124            40191        44140             41044   \nmean          NaN              NaN          NaN               NaN   \nstd           NaN              NaN          NaN               NaN   \nmin           NaN              NaN          NaN               NaN   \n25%           NaN              NaN          NaN               NaN   \n50%           NaN              NaN          NaN               NaN   \n75%           NaN              NaN          NaN               NaN   \nmax           NaN              NaN          NaN               NaN   \n\n       MARCA CHASIS MODELO CHASIS AÑO FABRICACIÓN DEL CHASIS  \\\ncount        131795        131795                     131795   \nunique           17            27                         19   \ntop       No aplica     No aplica                  No aplica   \nfreq          40191         40191                      40191   \nmean            NaN           NaN                        NaN   \nstd             NaN           NaN                        NaN   \nmin             NaN           NaN                        NaN   \n25%             NaN           NaN                        NaN   \n50%             NaN           NaN                        NaN   \n75%             NaN           NaN                        NaN   \nmax             NaN           NaN                        NaN   \n\n        tiempo_reparacion_dias  \ncount            131795.000000  \nunique                     NaN  \ntop                        NaN  \nfreq                       NaN  \nmean                  1.292090  \nstd                   8.786143  \nmin                   0.000000  \n25%                   0.000000  \n50%                   0.000000  \n75%                   0.000000  \nmax                 505.000000  ",
      "text/html": "<div>\n<style scoped>\n    .dataframe tbody tr th:only-of-type {\n        vertical-align: middle;\n    }\n\n    .dataframe tbody tr th {\n        vertical-align: top;\n    }\n\n    .dataframe thead th {\n        text-align: right;\n    }\n</style>\n<table border=\"1\" class=\"dataframe\">\n  <thead>\n    <tr style=\"text-align: right;\">\n      <th></th>\n      <th>Contrato</th>\n      <th>Número Activo Original</th>\n      <th>Estado</th>\n      <th>Valor factura</th>\n      <th>Sistema</th>\n      <th>Número de Activo</th>\n      <th>TIPO</th>\n      <th>TIPO DE OPERACIÓN</th>\n      <th>MARCA CHASIS</th>\n      <th>MODELO CHASIS</th>\n      <th>AÑO FABRICACIÓN DEL CHASIS</th>\n      <th>tiempo_reparacion_dias</th>\n    </tr>\n  </thead>\n  <tbody>\n    <tr>\n      <th>count</th>\n      <td>131795</td>\n      <td>131795.0</td>\n      <td>131795</td>\n      <td>1.317950e+05</td>\n      <td>131795</td>\n      <td>131795</td>\n      <td>131795</td>\n      <td>131795</td>\n      <td>131795</td>\n      <td>131795</td>\n      <td>131795</td>\n      <td>131795.000000</td>\n    </tr>\n    <tr>\n      <th>unique</th>\n      <td>50</td>\n      <td>438.0</td>\n      <td>18</td>\n      <td>NaN</td>\n      <td>19</td>\n      <td>222</td>\n      <td>18</td>\n      <td>21</td>\n      <td>17</td>\n      <td>27</td>\n      <td>19</td>\n      <td>NaN</td>\n    </tr>\n    <tr>\n      <th>top</th>\n      <td>Contrato24</td>\n      <td>386.0</td>\n      <td>Facturado</td>\n      <td>NaN</td>\n      <td>Sistema21</td>\n      <td>AG</td>\n      <td>TipoActivo3</td>\n      <td>Operacion4</td>\n      <td>No aplica</td>\n      <td>No aplica</td>\n      <td>No aplica</td>\n      <td>NaN</td>\n    </tr>\n    <tr>\n      <th>freq</th>\n      <td>42556</td>\n      <td>1353.0</td>\n      <td>128524</td>\n      <td>NaN</td>\n      <td>80124</td>\n      <td>40191</td>\n      <td>44140</td>\n      <td>41044</td>\n      <td>40191</td>\n      <td>40191</td>\n      <td>40191</td>\n      <td>NaN</td>\n    </tr>\n    <tr>\n      <th>mean</th>\n      <td>NaN</td>\n      <td>NaN</td>\n      <td>NaN</td>\n      <td>2.411168e+05</td>\n      <td>NaN</td>\n      <td>NaN</td>\n      <td>NaN</td>\n      <td>NaN</td>\n      <td>NaN</td>\n      <td>NaN</td>\n      <td>NaN</td>\n      <td>1.292090</td>\n    </tr>\n    <tr>\n      <th>std</th>\n      <td>NaN</td>\n      <td>NaN</td>\n      <td>NaN</td>\n      <td>1.414556e+06</td>\n      <td>NaN</td>\n      <td>NaN</td>\n      <td>NaN</td>\n      <td>NaN</td>\n      <td>NaN</td>\n      <td>NaN</td>\n      <td>NaN</td>\n      <td>8.786143</td>\n    </tr>\n    <tr>\n      <th>min</th>\n      <td>NaN</td>\n      <td>NaN</td>\n      <td>NaN</td>\n      <td>0.000000e+00</td>\n      <td>NaN</td>\n      <td>NaN</td>\n      <td>NaN</td>\n      <td>NaN</td>\n      <td>NaN</td>\n      <td>NaN</td>\n      <td>NaN</td>\n      <td>0.000000</td>\n    </tr>\n    <tr>\n      <th>25%</th>\n      <td>NaN</td>\n      <td>NaN</td>\n      <td>NaN</td>\n      <td>1.738121e+04</td>\n      <td>NaN</td>\n      <td>NaN</td>\n      <td>NaN</td>\n      <td>NaN</td>\n      <td>NaN</td>\n      <td>NaN</td>\n      <td>NaN</td>\n      <td>0.000000</td>\n    </tr>\n    <tr>\n      <th>50%</th>\n      <td>NaN</td>\n      <td>NaN</td>\n      <td>NaN</td>\n      <td>3.035918e+04</td>\n      <td>NaN</td>\n      <td>NaN</td>\n      <td>NaN</td>\n      <td>NaN</td>\n      <td>NaN</td>\n      <td>NaN</td>\n      <td>NaN</td>\n      <td>0.000000</td>\n    </tr>\n    <tr>\n      <th>75%</th>\n      <td>NaN</td>\n      <td>NaN</td>\n      <td>NaN</td>\n      <td>6.060133e+04</td>\n      <td>NaN</td>\n      <td>NaN</td>\n      <td>NaN</td>\n      <td>NaN</td>\n      <td>NaN</td>\n      <td>NaN</td>\n      <td>NaN</td>\n      <td>0.000000</td>\n    </tr>\n    <tr>\n      <th>max</th>\n      <td>NaN</td>\n      <td>NaN</td>\n      <td>NaN</td>\n      <td>7.660989e+07</td>\n      <td>NaN</td>\n      <td>NaN</td>\n      <td>NaN</td>\n      <td>NaN</td>\n      <td>NaN</td>\n      <td>NaN</td>\n      <td>NaN</td>\n      <td>505.000000</td>\n    </tr>\n  </tbody>\n</table>\n</div>"
     },
     "execution_count": 22,
     "metadata": {},
     "output_type": "execute_result"
    }
   ],
   "source": [
    "df_sistemas_mtto.describe(include='all')"
   ],
   "metadata": {
    "collapsed": false,
    "pycharm": {
     "name": "#%%\n"
    }
   }
  },
  {
   "cell_type": "code",
   "execution_count": 23,
   "outputs": [],
   "source": [
    "# En la columna Estado se observa que Anulado tiene otras dos opciones de escritura quedeben ser corregidas y Revisión Admin tiene un \\n delante de él\n",
    "df_sistemas_mtto['Estado'] = df_sistemas_mtto['Estado'].replace({'anulada':'Anulado', 'anulado':'Anulado','\\nRevisión Admin':'Revisión Admin'})"
   ],
   "metadata": {
    "collapsed": false,
    "pycharm": {
     "name": "#%%\n"
    }
   }
  },
  {
   "cell_type": "markdown",
   "source": [
    "**Creación de gráficas de barras para las columna**"
   ],
   "metadata": {
    "collapsed": false,
    "pycharm": {
     "name": "#%% md\n"
    }
   }
  },
  {
   "cell_type": "code",
   "execution_count": 24,
   "outputs": [
    {
     "data": {
      "text/plain": "Index(['Contrato', 'Número Activo Original', 'Estado', 'Valor factura',\n       'Sistema', 'Número de Activo', 'TIPO', 'TIPO DE OPERACIÓN',\n       'MARCA CHASIS', 'MODELO CHASIS', 'AÑO FABRICACIÓN DEL CHASIS',\n       'tiempo_reparacion_dias'],\n      dtype='object')"
     },
     "execution_count": 24,
     "metadata": {},
     "output_type": "execute_result"
    }
   ],
   "source": [
    "df_sistemas_mtto.columns"
   ],
   "metadata": {
    "collapsed": false,
    "pycharm": {
     "name": "#%%\n"
    }
   }
  },
  {
   "cell_type": "code",
   "execution_count": 25,
   "outputs": [],
   "source": [
    "df_sistemas_mtto['Actividad_General'] = (df_sistemas_mtto['Sistema'] == 'Sistema21') | (df_sistemas_mtto['Sistema'] == 'Sistema24')"
   ],
   "metadata": {
    "collapsed": false,
    "pycharm": {
     "name": "#%%\n"
    }
   }
  },
  {
   "cell_type": "code",
   "execution_count": 26,
   "outputs": [
    {
     "data": {
      "text/plain": "True     0.607944\nFalse    0.392056\nName: Actividad_General, dtype: float64"
     },
     "execution_count": 26,
     "metadata": {},
     "output_type": "execute_result"
    }
   ],
   "source": [
    "df_sistemas_mtto['Actividad_General'].value_counts(normalize=True)"
   ],
   "metadata": {
    "collapsed": false,
    "pycharm": {
     "name": "#%%\n"
    }
   }
  },
  {
   "cell_type": "code",
   "execution_count": 27,
   "outputs": [],
   "source": [
    "df_sistemas_mtto['AÑO FABRICACIÓN DEL CHASIS']=df_sistemas_mtto['AÑO FABRICACIÓN DEL CHASIS'].astype('object')"
   ],
   "metadata": {
    "collapsed": false,
    "pycharm": {
     "name": "#%%\n"
    }
   }
  },
  {
   "cell_type": "code",
   "execution_count": 28,
   "outputs": [
    {
     "data": {
      "text/plain": "No aplica    40191\n2009         28797\n2012         18112\n2014         13636\n2008          7003\n1998          6836\n2007          4967\n2017          3231\n2015          1852\n2005          1697\n2016          1593\n2003          1396\n2018          1312\n2019           357\n1996           338\n2011           319\n2020           158\nName: AÑO FABRICACIÓN DEL CHASIS, dtype: int64"
     },
     "execution_count": 28,
     "metadata": {},
     "output_type": "execute_result"
    }
   ],
   "source": [
    "df_sistemas_mtto['AÑO FABRICACIÓN DEL CHASIS']=df_sistemas_mtto['AÑO FABRICACIÓN DEL CHASIS'].replace({'2009':2009,2009:2009,'2020':2020,2020:2020})\n",
    "df_sistemas_mtto['AÑO FABRICACIÓN DEL CHASIS'].value_counts()"
   ],
   "metadata": {
    "collapsed": false,
    "pycharm": {
     "name": "#%%\n"
    }
   }
  },
  {
   "cell_type": "markdown",
   "source": [
    "**MODELOS**"
   ],
   "metadata": {
    "collapsed": false
   }
  },
  {
   "cell_type": "markdown",
   "source": [
    "**1) Importar las librerías necesarias**"
   ],
   "metadata": {
    "collapsed": false
   }
  },
  {
   "cell_type": "code",
   "execution_count": 29,
   "outputs": [],
   "source": [
    "import pandas as pd\n",
    "import numpy as np\n",
    "import matplotlib.pyplot as plt\n",
    "#Librerías para preprocesamiento\n",
    "import sklearn\n",
    "from sklearn.compose import make_column_selector, make_column_transformer\n",
    "from sklearn.preprocessing import StandardScaler, OneHotEncoder, LabelEncoder\n",
    "from sklearn.pipeline import make_pipeline\n",
    "#Librerías para modelos de selección\n",
    "from sklearn.model_selection import train_test_split\n",
    "#Librería para el modelos\n",
    "from sklearn.tree import DecisionTreeClassifier\n",
    "from sklearn.neighbors import KNeighborsClassifier\n",
    "from sklearn.linear_model import LogisticRegression\n",
    "from sklearn.ensemble import RandomForestClassifier\n",
    "#Librería para las métricas\n",
    "from sklearn.metrics import accuracy_score\n",
    "from sklearn.metrics import accuracy_score, recall_score, precision_score,roc_auc_score,RocCurveDisplay\n",
    "from sklearn.metrics import classification_report, plot_confusion_matrix\n",
    "#Para optimizar\n",
    "from sklearn.model_selection import GridSearchCV\n",
    "from sklearn import set_config\n",
    "set_config(display='diagram')\n"
   ],
   "metadata": {
    "collapsed": false,
    "pycharm": {
     "name": "#%%\n"
    }
   }
  },
  {
   "cell_type": "markdown",
   "source": [
    "**2) Cargar los datos**"
   ],
   "metadata": {
    "collapsed": false
   }
  },
  {
   "cell_type": "code",
   "execution_count": 30,
   "outputs": [
    {
     "data": {
      "text/plain": "          Contrato Número Activo Original     Estado  Valor factura  \\\n0       Contrato34                    270  Facturado   1.793857e+06   \n1       Contrato34                    377  Facturado   1.307067e+05   \n2       Contrato34                    245  Facturado   1.693834e+06   \n3       Contrato34                    236  Facturado   5.627988e+05   \n4       Contrato34                    390  Facturado   3.690611e+05   \n...            ...                    ...        ...            ...   \n132606  Contrato43                   5095  Facturado   4.040089e+04   \n132607  Contrato43                   5096  Facturado   2.020044e+04   \n132608  Contrato43                   5097  Facturado   2.020044e+04   \n132609  Contrato43                   4553  Facturado   2.020044e+04   \n132610  Contrato43                   4896  Facturado   1.068133e+04   \n\n          Sistema Número de Activo          TIPO TIPO DE OPERACIÓN  \\\n0        Sistema4            270.0   TipoActivo5        Operacion6   \n1        Sistema4            377.0   TipoActivo3        Operacion4   \n2        Sistema4            245.0   TipoActivo3        Operacion4   \n3        Sistema4            236.0   TipoActivo3        Operacion3   \n4        Sistema4            390.0   TipoActivo3        Operacion4   \n...           ...              ...           ...               ...   \n132606  Sistema21               AG     No aplica         No aplica   \n132607  Sistema21               AG     No aplica         No aplica   \n132608  Sistema21               AG     No aplica         No aplica   \n132609  Sistema21               AG     No aplica         No aplica   \n132610  Sistema21           4896.0  TipoActivo13       Operacion17   \n\n        MARCA CHASIS   MODELO CHASIS AÑO FABRICACIÓN DEL CHASIS  \\\n0       MarcaChasis3   ModeloChasis7                       2005   \n1       MarcaChasis3   ModeloChasis5                       2009   \n2       MarcaChasis3   ModeloChasis5                       2007   \n3       MarcaChasis3   ModeloChasis5                       2007   \n4       MarcaChasis3   ModeloChasis5                       2009   \n...              ...             ...                        ...   \n132606     No aplica       No aplica                  No aplica   \n132607     No aplica       No aplica                  No aplica   \n132608     No aplica       No aplica                  No aplica   \n132609     No aplica       No aplica                  No aplica   \n132610  MarcaChasis2  ModeloChasis20                       2019   \n\n        tiempo_reparacion_dias  Actividad_General  \n0                         57.0              False  \n1                          1.0              False  \n2                          1.0              False  \n3                          1.0              False  \n4                          2.0              False  \n...                        ...                ...  \n132606                     0.0               True  \n132607                     0.0               True  \n132608                     0.0               True  \n132609                     0.0               True  \n132610                     0.0               True  \n\n[131795 rows x 13 columns]",
      "text/html": "<div>\n<style scoped>\n    .dataframe tbody tr th:only-of-type {\n        vertical-align: middle;\n    }\n\n    .dataframe tbody tr th {\n        vertical-align: top;\n    }\n\n    .dataframe thead th {\n        text-align: right;\n    }\n</style>\n<table border=\"1\" class=\"dataframe\">\n  <thead>\n    <tr style=\"text-align: right;\">\n      <th></th>\n      <th>Contrato</th>\n      <th>Número Activo Original</th>\n      <th>Estado</th>\n      <th>Valor factura</th>\n      <th>Sistema</th>\n      <th>Número de Activo</th>\n      <th>TIPO</th>\n      <th>TIPO DE OPERACIÓN</th>\n      <th>MARCA CHASIS</th>\n      <th>MODELO CHASIS</th>\n      <th>AÑO FABRICACIÓN DEL CHASIS</th>\n      <th>tiempo_reparacion_dias</th>\n      <th>Actividad_General</th>\n    </tr>\n  </thead>\n  <tbody>\n    <tr>\n      <th>0</th>\n      <td>Contrato34</td>\n      <td>270</td>\n      <td>Facturado</td>\n      <td>1.793857e+06</td>\n      <td>Sistema4</td>\n      <td>270.0</td>\n      <td>TipoActivo5</td>\n      <td>Operacion6</td>\n      <td>MarcaChasis3</td>\n      <td>ModeloChasis7</td>\n      <td>2005</td>\n      <td>57.0</td>\n      <td>False</td>\n    </tr>\n    <tr>\n      <th>1</th>\n      <td>Contrato34</td>\n      <td>377</td>\n      <td>Facturado</td>\n      <td>1.307067e+05</td>\n      <td>Sistema4</td>\n      <td>377.0</td>\n      <td>TipoActivo3</td>\n      <td>Operacion4</td>\n      <td>MarcaChasis3</td>\n      <td>ModeloChasis5</td>\n      <td>2009</td>\n      <td>1.0</td>\n      <td>False</td>\n    </tr>\n    <tr>\n      <th>2</th>\n      <td>Contrato34</td>\n      <td>245</td>\n      <td>Facturado</td>\n      <td>1.693834e+06</td>\n      <td>Sistema4</td>\n      <td>245.0</td>\n      <td>TipoActivo3</td>\n      <td>Operacion4</td>\n      <td>MarcaChasis3</td>\n      <td>ModeloChasis5</td>\n      <td>2007</td>\n      <td>1.0</td>\n      <td>False</td>\n    </tr>\n    <tr>\n      <th>3</th>\n      <td>Contrato34</td>\n      <td>236</td>\n      <td>Facturado</td>\n      <td>5.627988e+05</td>\n      <td>Sistema4</td>\n      <td>236.0</td>\n      <td>TipoActivo3</td>\n      <td>Operacion3</td>\n      <td>MarcaChasis3</td>\n      <td>ModeloChasis5</td>\n      <td>2007</td>\n      <td>1.0</td>\n      <td>False</td>\n    </tr>\n    <tr>\n      <th>4</th>\n      <td>Contrato34</td>\n      <td>390</td>\n      <td>Facturado</td>\n      <td>3.690611e+05</td>\n      <td>Sistema4</td>\n      <td>390.0</td>\n      <td>TipoActivo3</td>\n      <td>Operacion4</td>\n      <td>MarcaChasis3</td>\n      <td>ModeloChasis5</td>\n      <td>2009</td>\n      <td>2.0</td>\n      <td>False</td>\n    </tr>\n    <tr>\n      <th>...</th>\n      <td>...</td>\n      <td>...</td>\n      <td>...</td>\n      <td>...</td>\n      <td>...</td>\n      <td>...</td>\n      <td>...</td>\n      <td>...</td>\n      <td>...</td>\n      <td>...</td>\n      <td>...</td>\n      <td>...</td>\n      <td>...</td>\n    </tr>\n    <tr>\n      <th>132606</th>\n      <td>Contrato43</td>\n      <td>5095</td>\n      <td>Facturado</td>\n      <td>4.040089e+04</td>\n      <td>Sistema21</td>\n      <td>AG</td>\n      <td>No aplica</td>\n      <td>No aplica</td>\n      <td>No aplica</td>\n      <td>No aplica</td>\n      <td>No aplica</td>\n      <td>0.0</td>\n      <td>True</td>\n    </tr>\n    <tr>\n      <th>132607</th>\n      <td>Contrato43</td>\n      <td>5096</td>\n      <td>Facturado</td>\n      <td>2.020044e+04</td>\n      <td>Sistema21</td>\n      <td>AG</td>\n      <td>No aplica</td>\n      <td>No aplica</td>\n      <td>No aplica</td>\n      <td>No aplica</td>\n      <td>No aplica</td>\n      <td>0.0</td>\n      <td>True</td>\n    </tr>\n    <tr>\n      <th>132608</th>\n      <td>Contrato43</td>\n      <td>5097</td>\n      <td>Facturado</td>\n      <td>2.020044e+04</td>\n      <td>Sistema21</td>\n      <td>AG</td>\n      <td>No aplica</td>\n      <td>No aplica</td>\n      <td>No aplica</td>\n      <td>No aplica</td>\n      <td>No aplica</td>\n      <td>0.0</td>\n      <td>True</td>\n    </tr>\n    <tr>\n      <th>132609</th>\n      <td>Contrato43</td>\n      <td>4553</td>\n      <td>Facturado</td>\n      <td>2.020044e+04</td>\n      <td>Sistema21</td>\n      <td>AG</td>\n      <td>No aplica</td>\n      <td>No aplica</td>\n      <td>No aplica</td>\n      <td>No aplica</td>\n      <td>No aplica</td>\n      <td>0.0</td>\n      <td>True</td>\n    </tr>\n    <tr>\n      <th>132610</th>\n      <td>Contrato43</td>\n      <td>4896</td>\n      <td>Facturado</td>\n      <td>1.068133e+04</td>\n      <td>Sistema21</td>\n      <td>4896.0</td>\n      <td>TipoActivo13</td>\n      <td>Operacion17</td>\n      <td>MarcaChasis2</td>\n      <td>ModeloChasis20</td>\n      <td>2019</td>\n      <td>0.0</td>\n      <td>True</td>\n    </tr>\n  </tbody>\n</table>\n<p>131795 rows × 13 columns</p>\n</div>"
     },
     "execution_count": 30,
     "metadata": {},
     "output_type": "execute_result"
    }
   ],
   "source": [
    "#Dataframe para la ejecución del modelo\n",
    "df_sistemas_mtto"
   ],
   "metadata": {
    "collapsed": false,
    "pycharm": {
     "name": "#%%\n"
    }
   }
  },
  {
   "cell_type": "code",
   "execution_count": 31,
   "outputs": [
    {
     "name": "stdout",
     "output_type": "stream",
     "text": [
      "<class 'pandas.core.frame.DataFrame'>\n",
      "Int64Index: 131795 entries, 0 to 132610\n",
      "Data columns (total 13 columns):\n",
      " #   Column                      Non-Null Count   Dtype  \n",
      "---  ------                      --------------   -----  \n",
      " 0   Contrato                    131795 non-null  object \n",
      " 1   Número Activo Original      131795 non-null  object \n",
      " 2   Estado                      131795 non-null  object \n",
      " 3   Valor factura               131795 non-null  float64\n",
      " 4   Sistema                     131795 non-null  object \n",
      " 5   Número de Activo            131795 non-null  object \n",
      " 6   TIPO                        131795 non-null  object \n",
      " 7   TIPO DE OPERACIÓN           131795 non-null  object \n",
      " 8   MARCA CHASIS                131795 non-null  object \n",
      " 9   MODELO CHASIS               131795 non-null  object \n",
      " 10  AÑO FABRICACIÓN DEL CHASIS  131795 non-null  object \n",
      " 11  tiempo_reparacion_dias      131795 non-null  float64\n",
      " 12  Actividad_General           131795 non-null  bool   \n",
      "dtypes: bool(1), float64(2), object(10)\n",
      "memory usage: 13.2+ MB\n"
     ]
    }
   ],
   "source": [
    "df_sistemas_mtto.info()"
   ],
   "metadata": {
    "collapsed": false,
    "pycharm": {
     "name": "#%%\n"
    }
   }
  },
  {
   "cell_type": "markdown",
   "source": [
    "**3)Crear matriz de caracteríticas y vector objetivo**"
   ],
   "metadata": {
    "collapsed": false
   }
  },
  {
   "cell_type": "markdown",
   "source": [
    "Dado que al correr la transformación de la matriz de características encontramos el error:\n",
    "**Unable to allocate 9.01 GiB for an array with shape (98846, 12237) and data type object**\n",
    "\n",
    "Se decir borrar la columna número de activo original, dado que dentro de esta columna hay números de activos reales y cuando se trata de facturas genéricas, se escribe el número de consecutivo de pago general, lo cual se ajusta en la columna Número de Activo, en el cual se reemplazan esto números únicos de factura masivos por la palabra AG: Actividad general.\n",
    "\n",
    "Se elimina la columna Estado dado que casi el 100% de los datos pertenecen a esta categoría\n",
    "\n",
    "Por otro lado de va a realizar PCA, con el fin de reducir la dimensionalidad y poder ejecutar las tareas\n"
   ],
   "metadata": {
    "collapsed": false
   }
  },
  {
   "cell_type": "code",
   "execution_count": 32,
   "outputs": [
    {
     "data": {
      "text/plain": "Facturado                      0.975181\nAnulado                        0.011624\nNo reportado                   0.006753\nEstimado                       0.002686\nGeneración OW                  0.000971\nRevisión Garantías             0.000880\nAutorización OW                0.000759\nCorrección en Taller 1         0.000539\nRevisión Admin                 0.000152\nCorrección en Taller 2         0.000121\nLevante Garantías              0.000114\nPendiente AC                   0.000076\nRevisión Corrección 1          0.000053\nUltima Corrección en Taller    0.000038\nReportado                      0.000030\nInforme Decadal                0.000023\nName: Estado, dtype: float64"
     },
     "execution_count": 32,
     "metadata": {},
     "output_type": "execute_result"
    }
   ],
   "source": [
    "df_sistemas_mtto['Estado'].value_counts(normalize=True)"
   ],
   "metadata": {
    "collapsed": false,
    "pycharm": {
     "name": "#%%\n"
    }
   }
  },
  {
   "cell_type": "code",
   "execution_count": 33,
   "outputs": [],
   "source": [
    "#Borrado de las columnas de activo original y estado y cambio del tipo de dato de la columna actividad general\n",
    "df_sistemas_mtto_reducido = df_sistemas_mtto.drop(columns = ['Número Activo Original','Estado'])\n",
    "df_sistemas_mtto_reducido['Actividad_General'] = df_sistemas_mtto_reducido['Actividad_General'].apply(lambda x: 1 if x == True else 0)"
   ],
   "metadata": {
    "collapsed": false,
    "pycharm": {
     "name": "#%%\n"
    }
   }
  },
  {
   "cell_type": "markdown",
   "source": [
    "Se realiza un dumizado previo para validar si es posible lograr ajustar el modelo"
   ],
   "metadata": {
    "collapsed": false
   }
  },
  {
   "cell_type": "code",
   "execution_count": 34,
   "outputs": [],
   "source": [
    "#Se crea la columna Sistema_num para otorgar valores numéricos a la columna objetivo\n",
    "label = LabelEncoder()\n",
    "df_sistemas_mtto_reducido['Sistema_num'] = label.fit_transform(df_sistemas_mtto_reducido['Sistema']).astype('int64')"
   ],
   "metadata": {
    "collapsed": false,
    "pycharm": {
     "name": "#%%\n"
    }
   }
  },
  {
   "cell_type": "code",
   "execution_count": 35,
   "outputs": [
    {
     "name": "stdout",
     "output_type": "stream",
     "text": [
      "<class 'pandas.core.frame.DataFrame'>\n",
      "Int64Index: 131795 entries, 0 to 132610\n",
      "Data columns (total 12 columns):\n",
      " #   Column                      Non-Null Count   Dtype  \n",
      "---  ------                      --------------   -----  \n",
      " 0   Contrato                    131795 non-null  object \n",
      " 1   Valor factura               131795 non-null  float64\n",
      " 2   Sistema                     131795 non-null  object \n",
      " 3   Número de Activo            131795 non-null  object \n",
      " 4   TIPO                        131795 non-null  object \n",
      " 5   TIPO DE OPERACIÓN           131795 non-null  object \n",
      " 6   MARCA CHASIS                131795 non-null  object \n",
      " 7   MODELO CHASIS               131795 non-null  object \n",
      " 8   AÑO FABRICACIÓN DEL CHASIS  131795 non-null  object \n",
      " 9   tiempo_reparacion_dias      131795 non-null  float64\n",
      " 10  Actividad_General           131795 non-null  int64  \n",
      " 11  Sistema_num                 131795 non-null  int64  \n",
      "dtypes: float64(2), int64(2), object(8)\n",
      "memory usage: 13.1+ MB\n"
     ]
    }
   ],
   "source": [
    "df_sistemas_mtto_reducido.info()"
   ],
   "metadata": {
    "collapsed": false,
    "pycharm": {
     "name": "#%%\n"
    }
   }
  },
  {
   "cell_type": "code",
   "execution_count": 36,
   "outputs": [
    {
     "data": {
      "text/plain": "Sistema    Sistema_num\nSistema21  12             80124\nSistema14  5              21810\nSistema3   13              4897\nSistema11  2               4650\nSistema1   0               4410\nSistema5   15              3369\nSistema10  1               3187\nSistema4   14              2575\nSistema9   18              2515\nSistema2   10              1849\nSistema8   17              1118\nSistema7   16               850\nSistema13  4                159\nSistema17  7                 62\nSistema18  8                 59\nSistema15  6                 52\nSistema12  3                 48\nSistema20  11                34\nSistema19  9                 27\nName: Sistema, dtype: int64"
     },
     "execution_count": 36,
     "metadata": {},
     "output_type": "execute_result"
    }
   ],
   "source": [
    "#Se crea un groupby para ver la relación entre los nombre originales de las columnas y el número asignado\n",
    "df_sistemas_mtto_reducido.groupby(['Sistema','Sistema_num'])['Sistema'].count().sort_values(ascending=False)"
   ],
   "metadata": {
    "collapsed": false,
    "pycharm": {
     "name": "#%%\n"
    }
   }
  },
  {
   "cell_type": "code",
   "execution_count": 37,
   "outputs": [],
   "source": [
    "#Se borra la columna de sistema pues ya se reemplazó por los datos numéricos\n",
    "df_sistemas_mtto_reducido.drop(columns='Sistema', inplace= True)"
   ],
   "metadata": {
    "collapsed": false,
    "pycharm": {
     "name": "#%%\n"
    }
   }
  },
  {
   "cell_type": "code",
   "execution_count": 38,
   "outputs": [
    {
     "data": {
      "text/plain": "        Valor factura  tiempo_reparacion_dias  Actividad_General  Sistema_num  \\\n0        1.793857e+06                    57.0                  0           14   \n1        1.307067e+05                     1.0                  0           14   \n2        1.693834e+06                     1.0                  0           14   \n3        5.627988e+05                     1.0                  0           14   \n4        3.690611e+05                     2.0                  0           14   \n...               ...                     ...                ...          ...   \n132606   4.040089e+04                     0.0                  1           12   \n132607   2.020044e+04                     0.0                  1           12   \n132608   2.020044e+04                     0.0                  1           12   \n132609   2.020044e+04                     0.0                  1           12   \n132610   1.068133e+04                     0.0                  1           12   \n\n        Contrato_Contrato11  Contrato_Contrato12  Contrato_Contrato13  \\\n0                         0                    0                    0   \n1                         0                    0                    0   \n2                         0                    0                    0   \n3                         0                    0                    0   \n4                         0                    0                    0   \n...                     ...                  ...                  ...   \n132606                    0                    0                    0   \n132607                    0                    0                    0   \n132608                    0                    0                    0   \n132609                    0                    0                    0   \n132610                    0                    0                    0   \n\n        Contrato_Contrato14  Contrato_Contrato15  Contrato_Contrato20  ...  \\\n0                         0                    0                    0  ...   \n1                         0                    0                    0  ...   \n2                         0                    0                    0  ...   \n3                         0                    0                    0  ...   \n4                         0                    0                    0  ...   \n...                     ...                  ...                  ...  ...   \n132606                    0                    0                    0  ...   \n132607                    0                    0                    0  ...   \n132608                    0                    0                    0  ...   \n132609                    0                    0                    0  ...   \n132610                    0                    0                    0  ...   \n\n        AÑO FABRICACIÓN DEL CHASIS_2011  AÑO FABRICACIÓN DEL CHASIS_2012  \\\n0                                     0                                0   \n1                                     0                                0   \n2                                     0                                0   \n3                                     0                                0   \n4                                     0                                0   \n...                                 ...                              ...   \n132606                                0                                0   \n132607                                0                                0   \n132608                                0                                0   \n132609                                0                                0   \n132610                                0                                0   \n\n        AÑO FABRICACIÓN DEL CHASIS_2014  AÑO FABRICACIÓN DEL CHASIS_2015  \\\n0                                     0                                0   \n1                                     0                                0   \n2                                     0                                0   \n3                                     0                                0   \n4                                     0                                0   \n...                                 ...                              ...   \n132606                                0                                0   \n132607                                0                                0   \n132608                                0                                0   \n132609                                0                                0   \n132610                                0                                0   \n\n        AÑO FABRICACIÓN DEL CHASIS_2016  AÑO FABRICACIÓN DEL CHASIS_2017  \\\n0                                     0                                0   \n1                                     0                                0   \n2                                     0                                0   \n3                                     0                                0   \n4                                     0                                0   \n...                                 ...                              ...   \n132606                                0                                0   \n132607                                0                                0   \n132608                                0                                0   \n132609                                0                                0   \n132610                                0                                0   \n\n        AÑO FABRICACIÓN DEL CHASIS_2018  AÑO FABRICACIÓN DEL CHASIS_2019  \\\n0                                     0                                0   \n1                                     0                                0   \n2                                     0                                0   \n3                                     0                                0   \n4                                     0                                0   \n...                                 ...                              ...   \n132606                                0                                0   \n132607                                0                                0   \n132608                                0                                0   \n132609                                0                                0   \n132610                                0                                1   \n\n        AÑO FABRICACIÓN DEL CHASIS_2020  AÑO FABRICACIÓN DEL CHASIS_No aplica  \n0                                     0                                     0  \n1                                     0                                     0  \n2                                     0                                     0  \n3                                     0                                     0  \n4                                     0                                     0  \n...                                 ...                                   ...  \n132606                                0                                     1  \n132607                                0                                     1  \n132608                                0                                     1  \n132609                                0                                     1  \n132610                                0                                     0  \n\n[131795 rows x 369 columns]",
      "text/html": "<div>\n<style scoped>\n    .dataframe tbody tr th:only-of-type {\n        vertical-align: middle;\n    }\n\n    .dataframe tbody tr th {\n        vertical-align: top;\n    }\n\n    .dataframe thead th {\n        text-align: right;\n    }\n</style>\n<table border=\"1\" class=\"dataframe\">\n  <thead>\n    <tr style=\"text-align: right;\">\n      <th></th>\n      <th>Valor factura</th>\n      <th>tiempo_reparacion_dias</th>\n      <th>Actividad_General</th>\n      <th>Sistema_num</th>\n      <th>Contrato_Contrato11</th>\n      <th>Contrato_Contrato12</th>\n      <th>Contrato_Contrato13</th>\n      <th>Contrato_Contrato14</th>\n      <th>Contrato_Contrato15</th>\n      <th>Contrato_Contrato20</th>\n      <th>...</th>\n      <th>AÑO FABRICACIÓN DEL CHASIS_2011</th>\n      <th>AÑO FABRICACIÓN DEL CHASIS_2012</th>\n      <th>AÑO FABRICACIÓN DEL CHASIS_2014</th>\n      <th>AÑO FABRICACIÓN DEL CHASIS_2015</th>\n      <th>AÑO FABRICACIÓN DEL CHASIS_2016</th>\n      <th>AÑO FABRICACIÓN DEL CHASIS_2017</th>\n      <th>AÑO FABRICACIÓN DEL CHASIS_2018</th>\n      <th>AÑO FABRICACIÓN DEL CHASIS_2019</th>\n      <th>AÑO FABRICACIÓN DEL CHASIS_2020</th>\n      <th>AÑO FABRICACIÓN DEL CHASIS_No aplica</th>\n    </tr>\n  </thead>\n  <tbody>\n    <tr>\n      <th>0</th>\n      <td>1.793857e+06</td>\n      <td>57.0</td>\n      <td>0</td>\n      <td>14</td>\n      <td>0</td>\n      <td>0</td>\n      <td>0</td>\n      <td>0</td>\n      <td>0</td>\n      <td>0</td>\n      <td>...</td>\n      <td>0</td>\n      <td>0</td>\n      <td>0</td>\n      <td>0</td>\n      <td>0</td>\n      <td>0</td>\n      <td>0</td>\n      <td>0</td>\n      <td>0</td>\n      <td>0</td>\n    </tr>\n    <tr>\n      <th>1</th>\n      <td>1.307067e+05</td>\n      <td>1.0</td>\n      <td>0</td>\n      <td>14</td>\n      <td>0</td>\n      <td>0</td>\n      <td>0</td>\n      <td>0</td>\n      <td>0</td>\n      <td>0</td>\n      <td>...</td>\n      <td>0</td>\n      <td>0</td>\n      <td>0</td>\n      <td>0</td>\n      <td>0</td>\n      <td>0</td>\n      <td>0</td>\n      <td>0</td>\n      <td>0</td>\n      <td>0</td>\n    </tr>\n    <tr>\n      <th>2</th>\n      <td>1.693834e+06</td>\n      <td>1.0</td>\n      <td>0</td>\n      <td>14</td>\n      <td>0</td>\n      <td>0</td>\n      <td>0</td>\n      <td>0</td>\n      <td>0</td>\n      <td>0</td>\n      <td>...</td>\n      <td>0</td>\n      <td>0</td>\n      <td>0</td>\n      <td>0</td>\n      <td>0</td>\n      <td>0</td>\n      <td>0</td>\n      <td>0</td>\n      <td>0</td>\n      <td>0</td>\n    </tr>\n    <tr>\n      <th>3</th>\n      <td>5.627988e+05</td>\n      <td>1.0</td>\n      <td>0</td>\n      <td>14</td>\n      <td>0</td>\n      <td>0</td>\n      <td>0</td>\n      <td>0</td>\n      <td>0</td>\n      <td>0</td>\n      <td>...</td>\n      <td>0</td>\n      <td>0</td>\n      <td>0</td>\n      <td>0</td>\n      <td>0</td>\n      <td>0</td>\n      <td>0</td>\n      <td>0</td>\n      <td>0</td>\n      <td>0</td>\n    </tr>\n    <tr>\n      <th>4</th>\n      <td>3.690611e+05</td>\n      <td>2.0</td>\n      <td>0</td>\n      <td>14</td>\n      <td>0</td>\n      <td>0</td>\n      <td>0</td>\n      <td>0</td>\n      <td>0</td>\n      <td>0</td>\n      <td>...</td>\n      <td>0</td>\n      <td>0</td>\n      <td>0</td>\n      <td>0</td>\n      <td>0</td>\n      <td>0</td>\n      <td>0</td>\n      <td>0</td>\n      <td>0</td>\n      <td>0</td>\n    </tr>\n    <tr>\n      <th>...</th>\n      <td>...</td>\n      <td>...</td>\n      <td>...</td>\n      <td>...</td>\n      <td>...</td>\n      <td>...</td>\n      <td>...</td>\n      <td>...</td>\n      <td>...</td>\n      <td>...</td>\n      <td>...</td>\n      <td>...</td>\n      <td>...</td>\n      <td>...</td>\n      <td>...</td>\n      <td>...</td>\n      <td>...</td>\n      <td>...</td>\n      <td>...</td>\n      <td>...</td>\n      <td>...</td>\n    </tr>\n    <tr>\n      <th>132606</th>\n      <td>4.040089e+04</td>\n      <td>0.0</td>\n      <td>1</td>\n      <td>12</td>\n      <td>0</td>\n      <td>0</td>\n      <td>0</td>\n      <td>0</td>\n      <td>0</td>\n      <td>0</td>\n      <td>...</td>\n      <td>0</td>\n      <td>0</td>\n      <td>0</td>\n      <td>0</td>\n      <td>0</td>\n      <td>0</td>\n      <td>0</td>\n      <td>0</td>\n      <td>0</td>\n      <td>1</td>\n    </tr>\n    <tr>\n      <th>132607</th>\n      <td>2.020044e+04</td>\n      <td>0.0</td>\n      <td>1</td>\n      <td>12</td>\n      <td>0</td>\n      <td>0</td>\n      <td>0</td>\n      <td>0</td>\n      <td>0</td>\n      <td>0</td>\n      <td>...</td>\n      <td>0</td>\n      <td>0</td>\n      <td>0</td>\n      <td>0</td>\n      <td>0</td>\n      <td>0</td>\n      <td>0</td>\n      <td>0</td>\n      <td>0</td>\n      <td>1</td>\n    </tr>\n    <tr>\n      <th>132608</th>\n      <td>2.020044e+04</td>\n      <td>0.0</td>\n      <td>1</td>\n      <td>12</td>\n      <td>0</td>\n      <td>0</td>\n      <td>0</td>\n      <td>0</td>\n      <td>0</td>\n      <td>0</td>\n      <td>...</td>\n      <td>0</td>\n      <td>0</td>\n      <td>0</td>\n      <td>0</td>\n      <td>0</td>\n      <td>0</td>\n      <td>0</td>\n      <td>0</td>\n      <td>0</td>\n      <td>1</td>\n    </tr>\n    <tr>\n      <th>132609</th>\n      <td>2.020044e+04</td>\n      <td>0.0</td>\n      <td>1</td>\n      <td>12</td>\n      <td>0</td>\n      <td>0</td>\n      <td>0</td>\n      <td>0</td>\n      <td>0</td>\n      <td>0</td>\n      <td>...</td>\n      <td>0</td>\n      <td>0</td>\n      <td>0</td>\n      <td>0</td>\n      <td>0</td>\n      <td>0</td>\n      <td>0</td>\n      <td>0</td>\n      <td>0</td>\n      <td>1</td>\n    </tr>\n    <tr>\n      <th>132610</th>\n      <td>1.068133e+04</td>\n      <td>0.0</td>\n      <td>1</td>\n      <td>12</td>\n      <td>0</td>\n      <td>0</td>\n      <td>0</td>\n      <td>0</td>\n      <td>0</td>\n      <td>0</td>\n      <td>...</td>\n      <td>0</td>\n      <td>0</td>\n      <td>0</td>\n      <td>0</td>\n      <td>0</td>\n      <td>0</td>\n      <td>0</td>\n      <td>1</td>\n      <td>0</td>\n      <td>0</td>\n    </tr>\n  </tbody>\n</table>\n<p>131795 rows × 369 columns</p>\n</div>"
     },
     "execution_count": 38,
     "metadata": {},
     "output_type": "execute_result"
    }
   ],
   "source": [
    "df_sistemas_mtto_reducido_get_dummies = pd.get_dummies(df_sistemas_mtto_reducido, drop_first=True, dtype='int64')\n",
    "df_sistemas_mtto_reducido_get_dummies"
   ],
   "metadata": {
    "collapsed": false,
    "pycharm": {
     "name": "#%%\n"
    }
   }
  },
  {
   "cell_type": "code",
   "execution_count": 39,
   "outputs": [
    {
     "name": "stdout",
     "output_type": "stream",
     "text": [
      "<class 'pandas.core.frame.DataFrame'>\n",
      "Int64Index: 131795 entries, 0 to 132610\n",
      "Columns: 369 entries, Valor factura to AÑO FABRICACIÓN DEL CHASIS_No aplica\n",
      "dtypes: float64(2), int64(367)\n",
      "memory usage: 372.0 MB\n"
     ]
    }
   ],
   "source": [
    "df_sistemas_mtto_reducido_get_dummies.info()"
   ],
   "metadata": {
    "collapsed": false,
    "pycharm": {
     "name": "#%%\n"
    }
   }
  },
  {
   "cell_type": "markdown",
   "source": [
    "En este momento se ha obtenido que todas las columnas sean numéricas, esto con el fin de asegurar que los transformadores solo tendrán que escaladores"
   ],
   "metadata": {
    "collapsed": false
   }
  },
  {
   "cell_type": "code",
   "execution_count": 40,
   "outputs": [],
   "source": [
    "X = df_sistemas_mtto_reducido_get_dummies.drop(columns=['Sistema_num'])\n",
    "y = df_sistemas_mtto_reducido_get_dummies['Sistema_num']\n",
    "X_train, X_test, y_train, y_test = train_test_split(X,y, random_state=42)"
   ],
   "metadata": {
    "collapsed": false,
    "pycharm": {
     "name": "#%%\n"
    }
   }
  },
  {
   "cell_type": "code",
   "execution_count": 41,
   "outputs": [
    {
     "name": "stdout",
     "output_type": "stream",
     "text": [
      "<class 'pandas.core.frame.DataFrame'>\n",
      "Int64Index: 98846 entries, 31309 to 122774\n",
      "Columns: 368 entries, Valor factura to AÑO FABRICACIÓN DEL CHASIS_No aplica\n",
      "dtypes: float64(2), int64(366)\n",
      "memory usage: 278.3 MB\n"
     ]
    }
   ],
   "source": [
    "X_train.info()"
   ],
   "metadata": {
    "collapsed": false,
    "pycharm": {
     "name": "#%%\n"
    }
   }
  },
  {
   "cell_type": "markdown",
   "source": [
    "**4) Instanciar los transformadores**"
   ],
   "metadata": {
    "collapsed": false
   }
  },
  {
   "cell_type": "markdown",
   "source": [
    "**Creación de selectores de columnas**"
   ],
   "metadata": {
    "collapsed": false
   }
  },
  {
   "cell_type": "code",
   "execution_count": 42,
   "outputs": [],
   "source": [
    "selector_numerico = make_column_selector(dtype_include='number')"
   ],
   "metadata": {
    "collapsed": false,
    "pycharm": {
     "name": "#%%\n"
    }
   }
  },
  {
   "cell_type": "markdown",
   "source": [
    "***Instanciar escalador***"
   ],
   "metadata": {
    "collapsed": false
   }
  },
  {
   "cell_type": "code",
   "execution_count": 43,
   "outputs": [],
   "source": [
    "scaler = StandardScaler()"
   ],
   "metadata": {
    "collapsed": false,
    "pycharm": {
     "name": "#%%\n"
    }
   }
  },
  {
   "cell_type": "markdown",
   "source": [
    "**4) Crear/instanciar los PIPELINES a usar**"
   ],
   "metadata": {
    "collapsed": false
   }
  },
  {
   "cell_type": "markdown",
   "source": [
    "***pipeline numérico***"
   ],
   "metadata": {
    "collapsed": false
   }
  },
  {
   "cell_type": "code",
   "execution_count": 44,
   "outputs": [
    {
     "data": {
      "text/plain": "Pipeline(steps=[('standardscaler', StandardScaler())])",
      "text/html": "<style>#sk-dd53cb7f-9cda-4601-936d-1911d5c3b814 {color: black;background-color: white;}#sk-dd53cb7f-9cda-4601-936d-1911d5c3b814 pre{padding: 0;}#sk-dd53cb7f-9cda-4601-936d-1911d5c3b814 div.sk-toggleable {background-color: white;}#sk-dd53cb7f-9cda-4601-936d-1911d5c3b814 label.sk-toggleable__label {cursor: pointer;display: block;width: 100%;margin-bottom: 0;padding: 0.3em;box-sizing: border-box;text-align: center;}#sk-dd53cb7f-9cda-4601-936d-1911d5c3b814 label.sk-toggleable__label-arrow:before {content: \"▸\";float: left;margin-right: 0.25em;color: #696969;}#sk-dd53cb7f-9cda-4601-936d-1911d5c3b814 label.sk-toggleable__label-arrow:hover:before {color: black;}#sk-dd53cb7f-9cda-4601-936d-1911d5c3b814 div.sk-estimator:hover label.sk-toggleable__label-arrow:before {color: black;}#sk-dd53cb7f-9cda-4601-936d-1911d5c3b814 div.sk-toggleable__content {max-height: 0;max-width: 0;overflow: hidden;text-align: left;background-color: #f0f8ff;}#sk-dd53cb7f-9cda-4601-936d-1911d5c3b814 div.sk-toggleable__content pre {margin: 0.2em;color: black;border-radius: 0.25em;background-color: #f0f8ff;}#sk-dd53cb7f-9cda-4601-936d-1911d5c3b814 input.sk-toggleable__control:checked~div.sk-toggleable__content {max-height: 200px;max-width: 100%;overflow: auto;}#sk-dd53cb7f-9cda-4601-936d-1911d5c3b814 input.sk-toggleable__control:checked~label.sk-toggleable__label-arrow:before {content: \"▾\";}#sk-dd53cb7f-9cda-4601-936d-1911d5c3b814 div.sk-estimator input.sk-toggleable__control:checked~label.sk-toggleable__label {background-color: #d4ebff;}#sk-dd53cb7f-9cda-4601-936d-1911d5c3b814 div.sk-label input.sk-toggleable__control:checked~label.sk-toggleable__label {background-color: #d4ebff;}#sk-dd53cb7f-9cda-4601-936d-1911d5c3b814 input.sk-hidden--visually {border: 0;clip: rect(1px 1px 1px 1px);clip: rect(1px, 1px, 1px, 1px);height: 1px;margin: -1px;overflow: hidden;padding: 0;position: absolute;width: 1px;}#sk-dd53cb7f-9cda-4601-936d-1911d5c3b814 div.sk-estimator {font-family: monospace;background-color: #f0f8ff;border: 1px dotted black;border-radius: 0.25em;box-sizing: border-box;margin-bottom: 0.5em;}#sk-dd53cb7f-9cda-4601-936d-1911d5c3b814 div.sk-estimator:hover {background-color: #d4ebff;}#sk-dd53cb7f-9cda-4601-936d-1911d5c3b814 div.sk-parallel-item::after {content: \"\";width: 100%;border-bottom: 1px solid gray;flex-grow: 1;}#sk-dd53cb7f-9cda-4601-936d-1911d5c3b814 div.sk-label:hover label.sk-toggleable__label {background-color: #d4ebff;}#sk-dd53cb7f-9cda-4601-936d-1911d5c3b814 div.sk-serial::before {content: \"\";position: absolute;border-left: 1px solid gray;box-sizing: border-box;top: 2em;bottom: 0;left: 50%;}#sk-dd53cb7f-9cda-4601-936d-1911d5c3b814 div.sk-serial {display: flex;flex-direction: column;align-items: center;background-color: white;padding-right: 0.2em;padding-left: 0.2em;}#sk-dd53cb7f-9cda-4601-936d-1911d5c3b814 div.sk-item {z-index: 1;}#sk-dd53cb7f-9cda-4601-936d-1911d5c3b814 div.sk-parallel {display: flex;align-items: stretch;justify-content: center;background-color: white;}#sk-dd53cb7f-9cda-4601-936d-1911d5c3b814 div.sk-parallel::before {content: \"\";position: absolute;border-left: 1px solid gray;box-sizing: border-box;top: 2em;bottom: 0;left: 50%;}#sk-dd53cb7f-9cda-4601-936d-1911d5c3b814 div.sk-parallel-item {display: flex;flex-direction: column;position: relative;background-color: white;}#sk-dd53cb7f-9cda-4601-936d-1911d5c3b814 div.sk-parallel-item:first-child::after {align-self: flex-end;width: 50%;}#sk-dd53cb7f-9cda-4601-936d-1911d5c3b814 div.sk-parallel-item:last-child::after {align-self: flex-start;width: 50%;}#sk-dd53cb7f-9cda-4601-936d-1911d5c3b814 div.sk-parallel-item:only-child::after {width: 0;}#sk-dd53cb7f-9cda-4601-936d-1911d5c3b814 div.sk-dashed-wrapped {border: 1px dashed gray;margin: 0 0.4em 0.5em 0.4em;box-sizing: border-box;padding-bottom: 0.4em;background-color: white;position: relative;}#sk-dd53cb7f-9cda-4601-936d-1911d5c3b814 div.sk-label label {font-family: monospace;font-weight: bold;background-color: white;display: inline-block;line-height: 1.2em;}#sk-dd53cb7f-9cda-4601-936d-1911d5c3b814 div.sk-label-container {position: relative;z-index: 2;text-align: center;}#sk-dd53cb7f-9cda-4601-936d-1911d5c3b814 div.sk-container {/* jupyter's `normalize.less` sets `[hidden] { display: none; }` but bootstrap.min.css set `[hidden] { display: none !important; }` so we also need the `!important` here to be able to override the default hidden behavior on the sphinx rendered scikit-learn.org. See: https://github.com/scikit-learn/scikit-learn/issues/21755 */display: inline-block !important;position: relative;}#sk-dd53cb7f-9cda-4601-936d-1911d5c3b814 div.sk-text-repr-fallback {display: none;}</style><div id=\"sk-dd53cb7f-9cda-4601-936d-1911d5c3b814\" class=\"sk-top-container\"><div class=\"sk-text-repr-fallback\"><pre>Pipeline(steps=[(&#x27;standardscaler&#x27;, StandardScaler())])</pre><b>Please rerun this cell to show the HTML repr or trust the notebook.</b></div><div class=\"sk-container\" hidden><div class=\"sk-item sk-dashed-wrapped\"><div class=\"sk-label-container\"><div class=\"sk-label sk-toggleable\"><input class=\"sk-toggleable__control sk-hidden--visually\" id=\"f3922c1c-fe74-435b-8ead-61f0c7219d1d\" type=\"checkbox\" ><label for=\"f3922c1c-fe74-435b-8ead-61f0c7219d1d\" class=\"sk-toggleable__label sk-toggleable__label-arrow\">Pipeline</label><div class=\"sk-toggleable__content\"><pre>Pipeline(steps=[(&#x27;standardscaler&#x27;, StandardScaler())])</pre></div></div></div><div class=\"sk-serial\"><div class=\"sk-item\"><div class=\"sk-estimator sk-toggleable\"><input class=\"sk-toggleable__control sk-hidden--visually\" id=\"3012a6f4-cc48-4bb1-b0d4-30c8048eb849\" type=\"checkbox\" ><label for=\"3012a6f4-cc48-4bb1-b0d4-30c8048eb849\" class=\"sk-toggleable__label sk-toggleable__label-arrow\">StandardScaler</label><div class=\"sk-toggleable__content\"><pre>StandardScaler()</pre></div></div></div></div></div></div></div>"
     },
     "execution_count": 44,
     "metadata": {},
     "output_type": "execute_result"
    }
   ],
   "source": [
    "pipeline_numerico = make_pipeline(scaler)\n",
    "pipeline_numerico"
   ],
   "metadata": {
    "collapsed": false,
    "pycharm": {
     "name": "#%%\n"
    }
   }
  },
  {
   "cell_type": "markdown",
   "source": [
    "**5) Instanciar ColumnTransformer**"
   ],
   "metadata": {
    "collapsed": false
   }
  },
  {
   "cell_type": "markdown",
   "source": [
    "***Tupla numérica***"
   ],
   "metadata": {
    "collapsed": false
   }
  },
  {
   "cell_type": "code",
   "execution_count": 45,
   "outputs": [
    {
     "data": {
      "text/plain": "(Pipeline(steps=[('standardscaler', StandardScaler())]),\n <sklearn.compose._column_transformer.make_column_selector at 0x16fc85dcd90>)"
     },
     "execution_count": 45,
     "metadata": {},
     "output_type": "execute_result"
    }
   ],
   "source": [
    "tupla_numerica =(pipeline_numerico, selector_numerico)\n",
    "tupla_numerica"
   ],
   "metadata": {
    "collapsed": false,
    "pycharm": {
     "name": "#%%\n"
    }
   }
  },
  {
   "cell_type": "markdown",
   "source": [
    "***CREAMOS EL COLUMNTRANSFORMER***"
   ],
   "metadata": {
    "collapsed": false
   }
  },
  {
   "cell_type": "code",
   "execution_count": 46,
   "outputs": [
    {
     "data": {
      "text/plain": "ColumnTransformer(remainder='passthrough',\n                  transformers=[('pipeline',\n                                 Pipeline(steps=[('standardscaler',\n                                                  StandardScaler())]),\n                                 <sklearn.compose._column_transformer.make_column_selector object at 0x0000016FC85DCD90>)])",
      "text/html": "<style>#sk-5dfd576b-19dd-4765-b727-786c25b14339 {color: black;background-color: white;}#sk-5dfd576b-19dd-4765-b727-786c25b14339 pre{padding: 0;}#sk-5dfd576b-19dd-4765-b727-786c25b14339 div.sk-toggleable {background-color: white;}#sk-5dfd576b-19dd-4765-b727-786c25b14339 label.sk-toggleable__label {cursor: pointer;display: block;width: 100%;margin-bottom: 0;padding: 0.3em;box-sizing: border-box;text-align: center;}#sk-5dfd576b-19dd-4765-b727-786c25b14339 label.sk-toggleable__label-arrow:before {content: \"▸\";float: left;margin-right: 0.25em;color: #696969;}#sk-5dfd576b-19dd-4765-b727-786c25b14339 label.sk-toggleable__label-arrow:hover:before {color: black;}#sk-5dfd576b-19dd-4765-b727-786c25b14339 div.sk-estimator:hover label.sk-toggleable__label-arrow:before {color: black;}#sk-5dfd576b-19dd-4765-b727-786c25b14339 div.sk-toggleable__content {max-height: 0;max-width: 0;overflow: hidden;text-align: left;background-color: #f0f8ff;}#sk-5dfd576b-19dd-4765-b727-786c25b14339 div.sk-toggleable__content pre {margin: 0.2em;color: black;border-radius: 0.25em;background-color: #f0f8ff;}#sk-5dfd576b-19dd-4765-b727-786c25b14339 input.sk-toggleable__control:checked~div.sk-toggleable__content {max-height: 200px;max-width: 100%;overflow: auto;}#sk-5dfd576b-19dd-4765-b727-786c25b14339 input.sk-toggleable__control:checked~label.sk-toggleable__label-arrow:before {content: \"▾\";}#sk-5dfd576b-19dd-4765-b727-786c25b14339 div.sk-estimator input.sk-toggleable__control:checked~label.sk-toggleable__label {background-color: #d4ebff;}#sk-5dfd576b-19dd-4765-b727-786c25b14339 div.sk-label input.sk-toggleable__control:checked~label.sk-toggleable__label {background-color: #d4ebff;}#sk-5dfd576b-19dd-4765-b727-786c25b14339 input.sk-hidden--visually {border: 0;clip: rect(1px 1px 1px 1px);clip: rect(1px, 1px, 1px, 1px);height: 1px;margin: -1px;overflow: hidden;padding: 0;position: absolute;width: 1px;}#sk-5dfd576b-19dd-4765-b727-786c25b14339 div.sk-estimator {font-family: monospace;background-color: #f0f8ff;border: 1px dotted black;border-radius: 0.25em;box-sizing: border-box;margin-bottom: 0.5em;}#sk-5dfd576b-19dd-4765-b727-786c25b14339 div.sk-estimator:hover {background-color: #d4ebff;}#sk-5dfd576b-19dd-4765-b727-786c25b14339 div.sk-parallel-item::after {content: \"\";width: 100%;border-bottom: 1px solid gray;flex-grow: 1;}#sk-5dfd576b-19dd-4765-b727-786c25b14339 div.sk-label:hover label.sk-toggleable__label {background-color: #d4ebff;}#sk-5dfd576b-19dd-4765-b727-786c25b14339 div.sk-serial::before {content: \"\";position: absolute;border-left: 1px solid gray;box-sizing: border-box;top: 2em;bottom: 0;left: 50%;}#sk-5dfd576b-19dd-4765-b727-786c25b14339 div.sk-serial {display: flex;flex-direction: column;align-items: center;background-color: white;padding-right: 0.2em;padding-left: 0.2em;}#sk-5dfd576b-19dd-4765-b727-786c25b14339 div.sk-item {z-index: 1;}#sk-5dfd576b-19dd-4765-b727-786c25b14339 div.sk-parallel {display: flex;align-items: stretch;justify-content: center;background-color: white;}#sk-5dfd576b-19dd-4765-b727-786c25b14339 div.sk-parallel::before {content: \"\";position: absolute;border-left: 1px solid gray;box-sizing: border-box;top: 2em;bottom: 0;left: 50%;}#sk-5dfd576b-19dd-4765-b727-786c25b14339 div.sk-parallel-item {display: flex;flex-direction: column;position: relative;background-color: white;}#sk-5dfd576b-19dd-4765-b727-786c25b14339 div.sk-parallel-item:first-child::after {align-self: flex-end;width: 50%;}#sk-5dfd576b-19dd-4765-b727-786c25b14339 div.sk-parallel-item:last-child::after {align-self: flex-start;width: 50%;}#sk-5dfd576b-19dd-4765-b727-786c25b14339 div.sk-parallel-item:only-child::after {width: 0;}#sk-5dfd576b-19dd-4765-b727-786c25b14339 div.sk-dashed-wrapped {border: 1px dashed gray;margin: 0 0.4em 0.5em 0.4em;box-sizing: border-box;padding-bottom: 0.4em;background-color: white;position: relative;}#sk-5dfd576b-19dd-4765-b727-786c25b14339 div.sk-label label {font-family: monospace;font-weight: bold;background-color: white;display: inline-block;line-height: 1.2em;}#sk-5dfd576b-19dd-4765-b727-786c25b14339 div.sk-label-container {position: relative;z-index: 2;text-align: center;}#sk-5dfd576b-19dd-4765-b727-786c25b14339 div.sk-container {/* jupyter's `normalize.less` sets `[hidden] { display: none; }` but bootstrap.min.css set `[hidden] { display: none !important; }` so we also need the `!important` here to be able to override the default hidden behavior on the sphinx rendered scikit-learn.org. See: https://github.com/scikit-learn/scikit-learn/issues/21755 */display: inline-block !important;position: relative;}#sk-5dfd576b-19dd-4765-b727-786c25b14339 div.sk-text-repr-fallback {display: none;}</style><div id=\"sk-5dfd576b-19dd-4765-b727-786c25b14339\" class=\"sk-top-container\"><div class=\"sk-text-repr-fallback\"><pre>ColumnTransformer(remainder=&#x27;passthrough&#x27;,\n                  transformers=[(&#x27;pipeline&#x27;,\n                                 Pipeline(steps=[(&#x27;standardscaler&#x27;,\n                                                  StandardScaler())]),\n                                 &lt;sklearn.compose._column_transformer.make_column_selector object at 0x0000016FC85DCD90&gt;)])</pre><b>Please rerun this cell to show the HTML repr or trust the notebook.</b></div><div class=\"sk-container\" hidden><div class=\"sk-item sk-dashed-wrapped\"><div class=\"sk-label-container\"><div class=\"sk-label sk-toggleable\"><input class=\"sk-toggleable__control sk-hidden--visually\" id=\"e3442868-4f27-4f38-841c-721eab09ffa5\" type=\"checkbox\" ><label for=\"e3442868-4f27-4f38-841c-721eab09ffa5\" class=\"sk-toggleable__label sk-toggleable__label-arrow\">ColumnTransformer</label><div class=\"sk-toggleable__content\"><pre>ColumnTransformer(remainder=&#x27;passthrough&#x27;,\n                  transformers=[(&#x27;pipeline&#x27;,\n                                 Pipeline(steps=[(&#x27;standardscaler&#x27;,\n                                                  StandardScaler())]),\n                                 &lt;sklearn.compose._column_transformer.make_column_selector object at 0x0000016FC85DCD90&gt;)])</pre></div></div></div><div class=\"sk-parallel\"><div class=\"sk-parallel-item\"><div class=\"sk-item\"><div class=\"sk-label-container\"><div class=\"sk-label sk-toggleable\"><input class=\"sk-toggleable__control sk-hidden--visually\" id=\"65ecd7c5-d6f5-44c7-9b53-5fdccffdf8c2\" type=\"checkbox\" ><label for=\"65ecd7c5-d6f5-44c7-9b53-5fdccffdf8c2\" class=\"sk-toggleable__label sk-toggleable__label-arrow\">pipeline</label><div class=\"sk-toggleable__content\"><pre>&lt;sklearn.compose._column_transformer.make_column_selector object at 0x0000016FC85DCD90&gt;</pre></div></div></div><div class=\"sk-serial\"><div class=\"sk-item\"><div class=\"sk-serial\"><div class=\"sk-item\"><div class=\"sk-estimator sk-toggleable\"><input class=\"sk-toggleable__control sk-hidden--visually\" id=\"41fdc4ed-9bdc-4e8f-87ae-d454bacdf002\" type=\"checkbox\" ><label for=\"41fdc4ed-9bdc-4e8f-87ae-d454bacdf002\" class=\"sk-toggleable__label sk-toggleable__label-arrow\">StandardScaler</label><div class=\"sk-toggleable__content\"><pre>StandardScaler()</pre></div></div></div></div></div></div></div></div><div class=\"sk-parallel-item\"><div class=\"sk-item\"><div class=\"sk-label-container\"><div class=\"sk-label sk-toggleable\"><input class=\"sk-toggleable__control sk-hidden--visually\" id=\"7d1527de-828d-4633-b8ea-f189fcce7420\" type=\"checkbox\" ><label for=\"7d1527de-828d-4633-b8ea-f189fcce7420\" class=\"sk-toggleable__label sk-toggleable__label-arrow\">remainder</label><div class=\"sk-toggleable__content\"><pre></pre></div></div></div><div class=\"sk-serial\"><div class=\"sk-item\"><div class=\"sk-estimator sk-toggleable\"><input class=\"sk-toggleable__control sk-hidden--visually\" id=\"94eae133-da46-46db-8cac-0b8287b9f77c\" type=\"checkbox\" ><label for=\"94eae133-da46-46db-8cac-0b8287b9f77c\" class=\"sk-toggleable__label sk-toggleable__label-arrow\">passthrough</label><div class=\"sk-toggleable__content\"><pre>passthrough</pre></div></div></div></div></div></div></div></div></div></div>"
     },
     "execution_count": 46,
     "metadata": {},
     "output_type": "execute_result"
    }
   ],
   "source": [
    "transformador =make_column_transformer(tupla_numerica, remainder='passthrough')\n",
    "transformador"
   ],
   "metadata": {
    "collapsed": false,
    "pycharm": {
     "name": "#%%\n"
    }
   }
  },
  {
   "cell_type": "markdown",
   "source": [
    "**6) Transformado de datos**\n",
    "\n",
    "Ajustar la variable que contiene el ColumnTrasnformer con los datos de ENTRENAMIENTO"
   ],
   "metadata": {
    "collapsed": false,
    "pycharm": {
     "name": "#%% md\n"
    }
   }
  },
  {
   "cell_type": "code",
   "execution_count": 47,
   "outputs": [
    {
     "data": {
      "text/plain": "ColumnTransformer(remainder='passthrough',\n                  transformers=[('pipeline',\n                                 Pipeline(steps=[('standardscaler',\n                                                  StandardScaler())]),\n                                 <sklearn.compose._column_transformer.make_column_selector object at 0x0000016FC85DCD90>)])",
      "text/html": "<style>#sk-174cca06-00ef-4a91-ab6d-36b016a37000 {color: black;background-color: white;}#sk-174cca06-00ef-4a91-ab6d-36b016a37000 pre{padding: 0;}#sk-174cca06-00ef-4a91-ab6d-36b016a37000 div.sk-toggleable {background-color: white;}#sk-174cca06-00ef-4a91-ab6d-36b016a37000 label.sk-toggleable__label {cursor: pointer;display: block;width: 100%;margin-bottom: 0;padding: 0.3em;box-sizing: border-box;text-align: center;}#sk-174cca06-00ef-4a91-ab6d-36b016a37000 label.sk-toggleable__label-arrow:before {content: \"▸\";float: left;margin-right: 0.25em;color: #696969;}#sk-174cca06-00ef-4a91-ab6d-36b016a37000 label.sk-toggleable__label-arrow:hover:before {color: black;}#sk-174cca06-00ef-4a91-ab6d-36b016a37000 div.sk-estimator:hover label.sk-toggleable__label-arrow:before {color: black;}#sk-174cca06-00ef-4a91-ab6d-36b016a37000 div.sk-toggleable__content {max-height: 0;max-width: 0;overflow: hidden;text-align: left;background-color: #f0f8ff;}#sk-174cca06-00ef-4a91-ab6d-36b016a37000 div.sk-toggleable__content pre {margin: 0.2em;color: black;border-radius: 0.25em;background-color: #f0f8ff;}#sk-174cca06-00ef-4a91-ab6d-36b016a37000 input.sk-toggleable__control:checked~div.sk-toggleable__content {max-height: 200px;max-width: 100%;overflow: auto;}#sk-174cca06-00ef-4a91-ab6d-36b016a37000 input.sk-toggleable__control:checked~label.sk-toggleable__label-arrow:before {content: \"▾\";}#sk-174cca06-00ef-4a91-ab6d-36b016a37000 div.sk-estimator input.sk-toggleable__control:checked~label.sk-toggleable__label {background-color: #d4ebff;}#sk-174cca06-00ef-4a91-ab6d-36b016a37000 div.sk-label input.sk-toggleable__control:checked~label.sk-toggleable__label {background-color: #d4ebff;}#sk-174cca06-00ef-4a91-ab6d-36b016a37000 input.sk-hidden--visually {border: 0;clip: rect(1px 1px 1px 1px);clip: rect(1px, 1px, 1px, 1px);height: 1px;margin: -1px;overflow: hidden;padding: 0;position: absolute;width: 1px;}#sk-174cca06-00ef-4a91-ab6d-36b016a37000 div.sk-estimator {font-family: monospace;background-color: #f0f8ff;border: 1px dotted black;border-radius: 0.25em;box-sizing: border-box;margin-bottom: 0.5em;}#sk-174cca06-00ef-4a91-ab6d-36b016a37000 div.sk-estimator:hover {background-color: #d4ebff;}#sk-174cca06-00ef-4a91-ab6d-36b016a37000 div.sk-parallel-item::after {content: \"\";width: 100%;border-bottom: 1px solid gray;flex-grow: 1;}#sk-174cca06-00ef-4a91-ab6d-36b016a37000 div.sk-label:hover label.sk-toggleable__label {background-color: #d4ebff;}#sk-174cca06-00ef-4a91-ab6d-36b016a37000 div.sk-serial::before {content: \"\";position: absolute;border-left: 1px solid gray;box-sizing: border-box;top: 2em;bottom: 0;left: 50%;}#sk-174cca06-00ef-4a91-ab6d-36b016a37000 div.sk-serial {display: flex;flex-direction: column;align-items: center;background-color: white;padding-right: 0.2em;padding-left: 0.2em;}#sk-174cca06-00ef-4a91-ab6d-36b016a37000 div.sk-item {z-index: 1;}#sk-174cca06-00ef-4a91-ab6d-36b016a37000 div.sk-parallel {display: flex;align-items: stretch;justify-content: center;background-color: white;}#sk-174cca06-00ef-4a91-ab6d-36b016a37000 div.sk-parallel::before {content: \"\";position: absolute;border-left: 1px solid gray;box-sizing: border-box;top: 2em;bottom: 0;left: 50%;}#sk-174cca06-00ef-4a91-ab6d-36b016a37000 div.sk-parallel-item {display: flex;flex-direction: column;position: relative;background-color: white;}#sk-174cca06-00ef-4a91-ab6d-36b016a37000 div.sk-parallel-item:first-child::after {align-self: flex-end;width: 50%;}#sk-174cca06-00ef-4a91-ab6d-36b016a37000 div.sk-parallel-item:last-child::after {align-self: flex-start;width: 50%;}#sk-174cca06-00ef-4a91-ab6d-36b016a37000 div.sk-parallel-item:only-child::after {width: 0;}#sk-174cca06-00ef-4a91-ab6d-36b016a37000 div.sk-dashed-wrapped {border: 1px dashed gray;margin: 0 0.4em 0.5em 0.4em;box-sizing: border-box;padding-bottom: 0.4em;background-color: white;position: relative;}#sk-174cca06-00ef-4a91-ab6d-36b016a37000 div.sk-label label {font-family: monospace;font-weight: bold;background-color: white;display: inline-block;line-height: 1.2em;}#sk-174cca06-00ef-4a91-ab6d-36b016a37000 div.sk-label-container {position: relative;z-index: 2;text-align: center;}#sk-174cca06-00ef-4a91-ab6d-36b016a37000 div.sk-container {/* jupyter's `normalize.less` sets `[hidden] { display: none; }` but bootstrap.min.css set `[hidden] { display: none !important; }` so we also need the `!important` here to be able to override the default hidden behavior on the sphinx rendered scikit-learn.org. See: https://github.com/scikit-learn/scikit-learn/issues/21755 */display: inline-block !important;position: relative;}#sk-174cca06-00ef-4a91-ab6d-36b016a37000 div.sk-text-repr-fallback {display: none;}</style><div id=\"sk-174cca06-00ef-4a91-ab6d-36b016a37000\" class=\"sk-top-container\"><div class=\"sk-text-repr-fallback\"><pre>ColumnTransformer(remainder=&#x27;passthrough&#x27;,\n                  transformers=[(&#x27;pipeline&#x27;,\n                                 Pipeline(steps=[(&#x27;standardscaler&#x27;,\n                                                  StandardScaler())]),\n                                 &lt;sklearn.compose._column_transformer.make_column_selector object at 0x0000016FC85DCD90&gt;)])</pre><b>Please rerun this cell to show the HTML repr or trust the notebook.</b></div><div class=\"sk-container\" hidden><div class=\"sk-item sk-dashed-wrapped\"><div class=\"sk-label-container\"><div class=\"sk-label sk-toggleable\"><input class=\"sk-toggleable__control sk-hidden--visually\" id=\"7e5fea62-9f86-46f0-ba51-f27d0b826e37\" type=\"checkbox\" ><label for=\"7e5fea62-9f86-46f0-ba51-f27d0b826e37\" class=\"sk-toggleable__label sk-toggleable__label-arrow\">ColumnTransformer</label><div class=\"sk-toggleable__content\"><pre>ColumnTransformer(remainder=&#x27;passthrough&#x27;,\n                  transformers=[(&#x27;pipeline&#x27;,\n                                 Pipeline(steps=[(&#x27;standardscaler&#x27;,\n                                                  StandardScaler())]),\n                                 &lt;sklearn.compose._column_transformer.make_column_selector object at 0x0000016FC85DCD90&gt;)])</pre></div></div></div><div class=\"sk-parallel\"><div class=\"sk-parallel-item\"><div class=\"sk-item\"><div class=\"sk-label-container\"><div class=\"sk-label sk-toggleable\"><input class=\"sk-toggleable__control sk-hidden--visually\" id=\"3a1a93e2-0a60-4c96-9efc-ddb3d10226b5\" type=\"checkbox\" ><label for=\"3a1a93e2-0a60-4c96-9efc-ddb3d10226b5\" class=\"sk-toggleable__label sk-toggleable__label-arrow\">pipeline</label><div class=\"sk-toggleable__content\"><pre>&lt;sklearn.compose._column_transformer.make_column_selector object at 0x0000016FC85DCD90&gt;</pre></div></div></div><div class=\"sk-serial\"><div class=\"sk-item\"><div class=\"sk-serial\"><div class=\"sk-item\"><div class=\"sk-estimator sk-toggleable\"><input class=\"sk-toggleable__control sk-hidden--visually\" id=\"276f8b73-953b-4680-931c-4bf64b944d06\" type=\"checkbox\" ><label for=\"276f8b73-953b-4680-931c-4bf64b944d06\" class=\"sk-toggleable__label sk-toggleable__label-arrow\">StandardScaler</label><div class=\"sk-toggleable__content\"><pre>StandardScaler()</pre></div></div></div></div></div></div></div></div><div class=\"sk-parallel-item\"><div class=\"sk-item\"><div class=\"sk-label-container\"><div class=\"sk-label sk-toggleable\"><input class=\"sk-toggleable__control sk-hidden--visually\" id=\"5a66f3d1-6bc7-4ac8-a89d-9cbabc46affe\" type=\"checkbox\" ><label for=\"5a66f3d1-6bc7-4ac8-a89d-9cbabc46affe\" class=\"sk-toggleable__label sk-toggleable__label-arrow\">remainder</label><div class=\"sk-toggleable__content\"><pre>[]</pre></div></div></div><div class=\"sk-serial\"><div class=\"sk-item\"><div class=\"sk-estimator sk-toggleable\"><input class=\"sk-toggleable__control sk-hidden--visually\" id=\"57cfb147-b890-4de2-8fe2-c7bf2f817933\" type=\"checkbox\" ><label for=\"57cfb147-b890-4de2-8fe2-c7bf2f817933\" class=\"sk-toggleable__label sk-toggleable__label-arrow\">passthrough</label><div class=\"sk-toggleable__content\"><pre>passthrough</pre></div></div></div></div></div></div></div></div></div></div>"
     },
     "execution_count": 47,
     "metadata": {},
     "output_type": "execute_result"
    }
   ],
   "source": [
    "transformador.fit(X_train)"
   ],
   "metadata": {
    "collapsed": false,
    "pycharm": {
     "name": "#%%\n"
    }
   }
  },
  {
   "cell_type": "markdown",
   "source": [
    "TRANSFORMAR los datos de entrenamiento y los de prueba"
   ],
   "metadata": {
    "collapsed": false
   }
  },
  {
   "cell_type": "code",
   "execution_count": 48,
   "outputs": [],
   "source": [
    "X_trian_transformado = transformador.transform(X_train)"
   ],
   "metadata": {
    "collapsed": false,
    "pycharm": {
     "name": "#%%\n"
    }
   }
  },
  {
   "cell_type": "code",
   "execution_count": 49,
   "outputs": [],
   "source": [
    "X_test_transformado = transformador.transform(X_test)"
   ],
   "metadata": {
    "collapsed": false,
    "pycharm": {
     "name": "#%%\n"
    }
   }
  },
  {
   "cell_type": "code",
   "execution_count": 50,
   "outputs": [
    {
     "data": {
      "text/plain": "(98846, 368)"
     },
     "execution_count": 50,
     "metadata": {},
     "output_type": "execute_result"
    }
   ],
   "source": [
    "X_trian_transformado.shape"
   ],
   "metadata": {
    "collapsed": false,
    "pycharm": {
     "name": "#%%\n"
    }
   }
  },
  {
   "cell_type": "code",
   "execution_count": 51,
   "outputs": [
    {
     "data": {
      "text/plain": "(32949, 368)"
     },
     "execution_count": 51,
     "metadata": {},
     "output_type": "execute_result"
    }
   ],
   "source": [
    "X_test_transformado.shape"
   ],
   "metadata": {
    "collapsed": false,
    "pycharm": {
     "name": "#%%\n"
    }
   }
  },
  {
   "cell_type": "markdown",
   "source": [
    "**MODELO: KNN Vecinos más cercanos**"
   ],
   "metadata": {
    "collapsed": false
   }
  },
  {
   "cell_type": "code",
   "execution_count": 52,
   "outputs": [
    {
     "name": "stderr",
     "output_type": "stream",
     "text": [
      "C:\\Users\\Sebastian\\anaconda3\\lib\\site-packages\\sklearn\\neighbors\\_classification.py:228: FutureWarning: Unlike other reduction functions (e.g. `skew`, `kurtosis`), the default behavior of `mode` typically preserves the axis it acts along. In SciPy 1.11.0, this behavior will change: the default value of `keepdims` will become False, the `axis` over which the statistic is taken will be eliminated, and the value None will no longer be accepted. Set `keepdims` to True or False to avoid this warning.\n",
      "  mode, _ = stats.mode(_y[neigh_ind, k], axis=1)\n",
      "C:\\Users\\Sebastian\\anaconda3\\lib\\site-packages\\sklearn\\neighbors\\_classification.py:228: FutureWarning: Unlike other reduction functions (e.g. `skew`, `kurtosis`), the default behavior of `mode` typically preserves the axis it acts along. In SciPy 1.11.0, this behavior will change: the default value of `keepdims` will become False, the `axis` over which the statistic is taken will be eliminated, and the value None will no longer be accepted. Set `keepdims` to True or False to avoid this warning.\n",
      "  mode, _ = stats.mode(_y[neigh_ind, k], axis=1)\n"
     ]
    },
    {
     "name": "stdout",
     "output_type": "stream",
     "text": [
      "Score entrenamiento: 0.983084798575562\n",
      "Score prueba: 0.9762663510273453\n"
     ]
    }
   ],
   "source": [
    "knn_sistemas = KNeighborsClassifier()\n",
    "#Ajustar modelos a los datos de entrenamiento\n",
    "knn_sistemas.fit(X_trian_transformado,y_train)\n",
    "#Calcular score\n",
    "knn_sistemas_score_train = knn_sistemas.score(X_trian_transformado,y_train)\n",
    "knn_sistemas_score_test = knn_sistemas.score(X_test_transformado,y_test)\n",
    "print(f'Score entrenamiento: {knn_sistemas_score_train}\\nScore prueba: {knn_sistemas_score_test}')"
   ],
   "metadata": {
    "collapsed": false,
    "pycharm": {
     "name": "#%%\n"
    }
   }
  },
  {
   "cell_type": "code",
   "execution_count": 53,
   "outputs": [
    {
     "name": "stderr",
     "output_type": "stream",
     "text": [
      "C:\\Users\\Sebastian\\anaconda3\\lib\\site-packages\\sklearn\\neighbors\\_classification.py:228: FutureWarning: Unlike other reduction functions (e.g. `skew`, `kurtosis`), the default behavior of `mode` typically preserves the axis it acts along. In SciPy 1.11.0, this behavior will change: the default value of `keepdims` will become False, the `axis` over which the statistic is taken will be eliminated, and the value None will no longer be accepted. Set `keepdims` to True or False to avoid this warning.\n",
      "  mode, _ = stats.mode(_y[neigh_ind, k], axis=1)\n"
     ]
    },
    {
     "name": "stdout",
     "output_type": "stream",
     "text": [
      "CPU times: total: 3min 48s\n",
      "Wall time: 2min 3s\n"
     ]
    }
   ],
   "source": [
    "%%time\n",
    "#Predecir valores\n",
    "knn_sistemas_pred = knn_sistemas.predict(X_test_transformado)"
   ],
   "metadata": {
    "collapsed": false,
    "pycharm": {
     "name": "#%%\n"
    }
   }
  },
  {
   "cell_type": "markdown",
   "source": [
    "**Otras métricas**"
   ],
   "metadata": {
    "collapsed": false
   }
  },
  {
   "cell_type": "code",
   "execution_count": 54,
   "outputs": [
    {
     "name": "stdout",
     "output_type": "stream",
     "text": [
      "              precision    recall  f1-score   support\n",
      "\n",
      "           0       0.84      0.92      0.88      1137\n",
      "           1       0.99      0.98      0.98       804\n",
      "           2       1.00      1.00      1.00      1146\n",
      "           3       0.00      0.00      0.00        11\n",
      "           4       0.86      0.93      0.90        46\n",
      "           5       1.00      1.00      1.00      5500\n",
      "           6       1.00      1.00      1.00         7\n",
      "           7       1.00      1.00      1.00        20\n",
      "           8       1.00      0.92      0.96        12\n",
      "           9       1.00      1.00      1.00        10\n",
      "          10       0.88      0.74      0.81       427\n",
      "          11       1.00      1.00      1.00        10\n",
      "          12       0.99      1.00      1.00     19957\n",
      "          13       1.00      0.96      0.98      1222\n",
      "          14       0.75      0.86      0.80       658\n",
      "          15       0.88      0.96      0.92       852\n",
      "          16       0.38      0.12      0.19       212\n",
      "          17       0.84      0.60      0.70       280\n",
      "          18       1.00      0.92      0.96       638\n",
      "\n",
      "    accuracy                           0.98     32949\n",
      "   macro avg       0.86      0.84      0.84     32949\n",
      "weighted avg       0.97      0.98      0.97     32949\n",
      "\n"
     ]
    }
   ],
   "source": [
    "print(classification_report(y_test,knn_sistemas_pred, zero_division=True))"
   ],
   "metadata": {
    "collapsed": false,
    "pycharm": {
     "name": "#%%\n"
    }
   }
  },
  {
   "cell_type": "code",
   "execution_count": 55,
   "outputs": [
    {
     "name": "stderr",
     "output_type": "stream",
     "text": [
      "C:\\Users\\Sebastian\\anaconda3\\lib\\site-packages\\sklearn\\utils\\deprecation.py:87: FutureWarning: Function plot_confusion_matrix is deprecated; Function `plot_confusion_matrix` is deprecated in 1.0 and will be removed in 1.2. Use one of the class methods: ConfusionMatrixDisplay.from_predictions or ConfusionMatrixDisplay.from_estimator.\n",
      "  warnings.warn(msg, category=FutureWarning)\n",
      "C:\\Users\\Sebastian\\anaconda3\\lib\\site-packages\\sklearn\\neighbors\\_classification.py:228: FutureWarning: Unlike other reduction functions (e.g. `skew`, `kurtosis`), the default behavior of `mode` typically preserves the axis it acts along. In SciPy 1.11.0, this behavior will change: the default value of `keepdims` will become False, the `axis` over which the statistic is taken will be eliminated, and the value None will no longer be accepted. Set `keepdims` to True or False to avoid this warning.\n",
      "  mode, _ = stats.mode(_y[neigh_ind, k], axis=1)\n"
     ]
    },
    {
     "data": {
      "text/plain": "<Figure size 1440x1440 with 2 Axes>",
      "image/png": "[encoded data removed]"
     },
     "metadata": {
      "needs_background": "light"
     },
     "output_type": "display_data"
    }
   ],
   "source": [
    "fig, ax = plt.subplots(figsize=(20, 20))\n",
    "plot_confusion_matrix(knn_sistemas,X_test_transformado,y_test, ax=ax, cmap=plt.cm.Blues)\n",
    "plt.show()"
   ],
   "metadata": {
    "collapsed": false,
    "pycharm": {
     "name": "#%%\n"
    }
   }
  },
  {
   "cell_type": "markdown",
   "source": [],
   "metadata": {
    "collapsed": false
   }
  }
 ]
}